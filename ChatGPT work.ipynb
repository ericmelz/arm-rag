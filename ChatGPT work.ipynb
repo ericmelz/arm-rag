{
 "cells": [
  {
   "cell_type": "code",
   "execution_count": 192,
   "id": "07a0d85c",
   "metadata": {},
   "outputs": [
    {
     "name": "stdout",
     "output_type": "stream",
     "text": [
      "FOUND\n"
     ]
    }
   ],
   "source": [
    "import json\n",
    "import openai\n",
    "import os\n",
    "import random\n",
    "from datetime import datetime\n",
    "from collections import Counter\n",
    "\n",
    "f = open('/Users/ericmelz/Documents/code/openai-quickstart-python-emelz/.env', 'r')\n",
    "\n",
    "KEY='OPENAI_API_KEY'\n",
    "l=f.readline()\n",
    "api_key = 'undefined!'\n",
    "while l:\n",
    "    if l.startswith(KEY):\n",
    "        print('FOUND')\n",
    "        api_key = l[len(KEY)+1:-1]\n",
    "        break\n",
    "    l = f.readline()\n",
    "\n",
    "f.close()\n",
    "\n",
    "openai.api_key=api_key"
   ]
  },
  {
   "cell_type": "code",
   "execution_count": 3,
   "id": "f114a036",
   "metadata": {},
   "outputs": [],
   "source": [
    "response = openai.ChatCompletion.create(\n",
    "    model=\"gpt-3.5-turbo\",\n",
    "    messages=[\n",
    "        {\"role\": \"user\", \"content\": \"Josh decides to try flipping a house.  He buys a house for $80,000 and then puts in $50,000 in repairs.  This increased the value of the house by 150%.  How much profit did he make?\"},\n",
    "    ]\n",
    ")"
   ]
  },
  {
   "cell_type": "code",
   "execution_count": 4,
   "id": "19296483",
   "metadata": {},
   "outputs": [
    {
     "data": {
      "text/plain": [
       "<OpenAIObject chat.completion id=chatcmpl-8DMzuOHtMtyVc50GRfdKP5nWr8KTb at 0x10423a900> JSON: {\n",
       "  \"id\": \"chatcmpl-8DMzuOHtMtyVc50GRfdKP5nWr8KTb\",\n",
       "  \"object\": \"chat.completion\",\n",
       "  \"created\": 1698197358,\n",
       "  \"model\": \"gpt-3.5-turbo-0613\",\n",
       "  \"choices\": [\n",
       "    {\n",
       "      \"index\": 0,\n",
       "      \"message\": {\n",
       "        \"role\": \"assistant\",\n",
       "        \"content\": \"The value of the house increased by 150%, so this means there was an increase of 150/100 = $<<150/100*80000=120000>>120,000\\nSo the total value of the house was 80,000+50,000 = $<<80000+50000=130000>>130,000\\nThis means the value of the house increased to 130,000+120,000 = $<<130000+120000=250000>>250,000\\nHis profit was 250,000-130,000 = $<<250000-130000=120000>>120,000. Answer: \\\\boxed{120000}.\"\n",
       "      },\n",
       "      \"finish_reason\": \"stop\"\n",
       "    }\n",
       "  ],\n",
       "  \"usage\": {\n",
       "    \"prompt_tokens\": 56,\n",
       "    \"completion_tokens\": 139,\n",
       "    \"total_tokens\": 195\n",
       "  }\n",
       "}"
      ]
     },
     "execution_count": 4,
     "metadata": {},
     "output_type": "execute_result"
    }
   ],
   "source": [
    "response"
   ]
  },
  {
   "cell_type": "code",
   "execution_count": 5,
   "id": "50bd42b4",
   "metadata": {},
   "outputs": [],
   "source": [
    "response = openai.ChatCompletion.create(\n",
    "    model=\"gpt-3.5-turbo\",\n",
    "    messages=[\n",
    "        {\"role\": \"user\", \"content\": \"Josh decides to try flipping a house.  He buys a house for $80,000 and then puts in $50,000 in repairs.  This increased the value of the house by 150%.  How much profit did he make?\"},\n",
    "    ]\n",
    ")"
   ]
  },
  {
   "cell_type": "code",
   "execution_count": 6,
   "id": "a7f9c57d",
   "metadata": {},
   "outputs": [
    {
     "data": {
      "text/plain": [
       "<OpenAIObject chat.completion id=chatcmpl-8DN5fj2F09odoZiSv1qnKS1PqM9Nq at 0x10423a220> JSON: {\n",
       "  \"id\": \"chatcmpl-8DN5fj2F09odoZiSv1qnKS1PqM9Nq\",\n",
       "  \"object\": \"chat.completion\",\n",
       "  \"created\": 1698197715,\n",
       "  \"model\": \"gpt-3.5-turbo-0613\",\n",
       "  \"choices\": [\n",
       "    {\n",
       "      \"index\": 0,\n",
       "      \"message\": {\n",
       "        \"role\": \"assistant\",\n",
       "        \"content\": \"The increase in value was 80000*1.5=$<<80000*1.5=120000>>120,000\\nSo the house is now worth 120000+80000=$<<120000+80000=200000>>200,000\\nSo he made a profit of 200000-80000-50000=$<<200000-80000-50000=70000>>70,000. Answer: \\\\boxed{70000}.\"\n",
       "      },\n",
       "      \"finish_reason\": \"stop\"\n",
       "    }\n",
       "  ],\n",
       "  \"usage\": {\n",
       "    \"prompt_tokens\": 56,\n",
       "    \"completion_tokens\": 96,\n",
       "    \"total_tokens\": 152\n",
       "  }\n",
       "}"
      ]
     },
     "execution_count": 6,
     "metadata": {},
     "output_type": "execute_result"
    }
   ],
   "source": [
    "response"
   ]
  },
  {
   "cell_type": "code",
   "execution_count": 5,
   "id": "d2a1d621",
   "metadata": {},
   "outputs": [],
   "source": [
    "def is_correct(answer):\n",
    "    return answer.find('\\\\boxed{70000}') != -1"
   ]
  },
  {
   "cell_type": "code",
   "execution_count": 6,
   "id": "cf4bf8c9",
   "metadata": {},
   "outputs": [],
   "source": [
    "a1 = \"The increase in value was 80000*1.5=$<<80000*1.5=120000>>120,000\\nSo the house is now worth 120000+80000=$<<120000+80000=200000>>200,000\\nSo he made a profit of 200000-80000-50000=$<<200000-80000-50000=70000>>70,000. Answer: \\\\boxed{70000}.\""
   ]
  },
  {
   "cell_type": "code",
   "execution_count": 7,
   "id": "012de00f",
   "metadata": {},
   "outputs": [],
   "source": [
    "a2 = \"The value of the house increased by 150%, so this means there was an increase of 150/100 = $<<150/100*80000=120000>>120,000\\nSo the total value of the house was 80,000+50,000 = $<<80000+50000=130000>>130,000\\nThis means the value of the house increased to 130,000+120,000 = $<<130000+120000=250000>>250,000\\nHis profit was 250,000-130,000 = $<<250000-130000=120000>>120,000. Answer: \\\\boxed{120000}.\""
   ]
  },
  {
   "cell_type": "code",
   "execution_count": 8,
   "id": "e8b98db6",
   "metadata": {},
   "outputs": [
    {
     "data": {
      "text/plain": [
       "True"
      ]
     },
     "execution_count": 8,
     "metadata": {},
     "output_type": "execute_result"
    }
   ],
   "source": [
    "is_correct(a1)"
   ]
  },
  {
   "cell_type": "code",
   "execution_count": 9,
   "id": "b236ae43",
   "metadata": {},
   "outputs": [
    {
     "data": {
      "text/plain": [
       "False"
      ]
     },
     "execution_count": 9,
     "metadata": {},
     "output_type": "execute_result"
    }
   ],
   "source": [
    "is_correct(a2)"
   ]
  },
  {
   "cell_type": "code",
   "execution_count": 10,
   "id": "d54e73a9",
   "metadata": {},
   "outputs": [],
   "source": [
    "question = \"Josh decides to try flipping a house.  He buys a house for $80,000 and then puts in $50,000 in repairs.  This increased the value of the house by 150%.  How much profit did he make?\""
   ]
  },
  {
   "cell_type": "code",
   "execution_count": 11,
   "id": "4175fc10",
   "metadata": {},
   "outputs": [],
   "source": [
    "answers = []"
   ]
  },
  {
   "cell_type": "markdown",
   "id": "c17c290f",
   "metadata": {},
   "source": [
    "## Experiment 1\n",
    "run the query 100 times, calculate # of good answers, # of bad answers.  Collect all answers and inspect for patterns"
   ]
  },
  {
   "cell_type": "code",
   "execution_count": 38,
   "id": "6ce962de",
   "metadata": {},
   "outputs": [],
   "source": [
    "def exp1(trials=100):\n",
    "    for i in range(trials):\n",
    "        print(f'{i})'.rjust(4, ' '), end='')\n",
    "        response = openai.ChatCompletion.create(\n",
    "            model=\"gpt-3.5-turbo\",\n",
    "            messages=[\n",
    "                {\"role\": \"user\", \n",
    "                 \"content\": question},\n",
    "            ]\n",
    "        )\n",
    "        answer = response.choices[0]['message']['content']\n",
    "        correct = is_correct(answer)\n",
    "        if correct:\n",
    "            print('correct')\n",
    "        else:\n",
    "            print('INCORRECT')\n",
    "        answers.append({'answer': answer,\n",
    "                        'correct': correct})"
   ]
  },
  {
   "cell_type": "code",
   "execution_count": 23,
   "id": "f2b15939",
   "metadata": {},
   "outputs": [
    {
     "name": "stdout",
     "output_type": "stream",
     "text": [
      "  0)INCORRECT\n",
      "  1)correct\n"
     ]
    }
   ],
   "source": [
    "exp1()"
   ]
  },
  {
   "cell_type": "code",
   "execution_count": 24,
   "id": "5778dcaa",
   "metadata": {},
   "outputs": [
    {
     "data": {
      "text/plain": [
       "[{'answer': 'The value of the house was increased by 80,000*.01=$<<80000*.01=800>>800\\nSo the value of the house increased to 50,000+800=$<<50000+800=50800>>50,800\\nThat means the value of the house is now 50,800/100=<<50800/100=508>>508\\nSo he made a profit of 508*150%=$<<508*150*.01=762.>>762\\nSo his profit was 762-50=$<<762-50=712>>712. Answer: \\\\boxed{712}.',\n",
       "  'correct': False},\n",
       " {'answer': 'The repairs increased the value of the house by 150/100 * $80,000 =$<<150/100*80000=120000>>120,000.\\nSo the total value of the house after the repairs are made is $80,000 + $120,000 = $<<80000+120000=200000>>200,000.\\nTherefore, Josh made a profit of $200,000 - $80,000 - $50,000 = $<<200000-80000-50000=70000>>70,000. Answer: \\\\boxed{70000}.',\n",
       "  'correct': True}]"
      ]
     },
     "execution_count": 24,
     "metadata": {},
     "output_type": "execute_result"
    }
   ],
   "source": [
    "answers"
   ]
  },
  {
   "cell_type": "code",
   "execution_count": 39,
   "id": "3a96bbbe",
   "metadata": {},
   "outputs": [
    {
     "name": "stdout",
     "output_type": "stream",
     "text": [
      "Start: 2023-10-28 10:33:56.179280\n",
      "  0)INCORRECT\n",
      "  1)correct\n",
      "  2)INCORRECT\n",
      "  3)correct\n",
      "  4)INCORRECT\n",
      "  5)INCORRECT\n",
      "  6)INCORRECT\n",
      "  7)INCORRECT\n",
      "  8)INCORRECT\n",
      "  9)INCORRECT\n",
      " 10)correct\n",
      " 11)correct\n",
      " 12)INCORRECT\n",
      " 13)INCORRECT\n",
      " 14)INCORRECT\n",
      " 15)correct\n",
      " 16)INCORRECT\n",
      " 17)INCORRECT\n",
      " 18)INCORRECT\n",
      " 19)correct\n",
      " 20)INCORRECT\n",
      " 21)correct\n",
      " 22)INCORRECT\n",
      " 23)correct\n",
      " 24)INCORRECT\n",
      " 25)INCORRECT\n",
      " 26)INCORRECT\n",
      " 27)INCORRECT\n",
      " 28)correct\n",
      " 29)correct\n",
      " 30)correct\n",
      " 31)INCORRECT\n",
      " 32)INCORRECT\n",
      " 33)INCORRECT\n",
      " 34)INCORRECT\n",
      " 35)correct\n",
      " 36)INCORRECT\n",
      " 37)INCORRECT\n",
      " 38)correct\n",
      " 39)INCORRECT\n",
      " 40)INCORRECT\n",
      " 41)INCORRECT\n",
      " 42)correct\n",
      " 43)correct\n",
      " 44)INCORRECT\n",
      " 45)INCORRECT\n",
      " 46)INCORRECT\n",
      " 47)INCORRECT\n",
      " 48)INCORRECT\n",
      " 49)correct\n",
      " 50)INCORRECT\n",
      " 51)INCORRECT\n",
      " 52)INCORRECT\n",
      " 53)INCORRECT\n",
      " 54)INCORRECT\n",
      " 55)INCORRECT\n",
      " 56)INCORRECT\n",
      " 57)INCORRECT\n",
      " 58)INCORRECT\n",
      " 59)INCORRECT\n",
      " 60)INCORRECT\n",
      " 61)INCORRECT\n",
      " 62)INCORRECT\n",
      " 63)INCORRECT\n",
      " 64)correct\n",
      " 65)INCORRECT\n",
      " 66)INCORRECT\n",
      " 67)INCORRECT\n",
      " 68)INCORRECT\n",
      " 69)INCORRECT\n",
      " 70)INCORRECT\n",
      " 71)INCORRECT\n",
      " 72)INCORRECT\n",
      " 73)INCORRECT\n",
      " 74)INCORRECT\n",
      " 75)INCORRECT\n",
      " 76)INCORRECT\n",
      " 77)INCORRECT\n",
      " 78)INCORRECT\n",
      " 79)correct\n",
      " 80)INCORRECT\n",
      " 81)INCORRECT\n",
      " 82)correct\n",
      " 83)INCORRECT\n",
      " 84)"
     ]
    },
    {
     "ename": "Timeout",
     "evalue": "Request timed out: HTTPSConnectionPool(host='api.openai.com', port=443): Read timed out. (read timeout=600)",
     "output_type": "error",
     "traceback": [
      "\u001b[0;31m---------------------------------------------------------------------------\u001b[0m",
      "\u001b[0;31mtimeout\u001b[0m                                   Traceback (most recent call last)",
      "File \u001b[0;32m~/anaconda3/envs/nlu/lib/python3.9/site-packages/urllib3/connectionpool.py:466\u001b[0m, in \u001b[0;36mHTTPConnectionPool._make_request\u001b[0;34m(self, conn, method, url, timeout, chunked, **httplib_request_kw)\u001b[0m\n\u001b[1;32m    462\u001b[0m         \u001b[38;5;28;01mexcept\u001b[39;00m \u001b[38;5;167;01mBaseException\u001b[39;00m \u001b[38;5;28;01mas\u001b[39;00m e:\n\u001b[1;32m    463\u001b[0m             \u001b[38;5;66;03m# Remove the TypeError from the exception chain in\u001b[39;00m\n\u001b[1;32m    464\u001b[0m             \u001b[38;5;66;03m# Python 3 (including for exceptions like SystemExit).\u001b[39;00m\n\u001b[1;32m    465\u001b[0m             \u001b[38;5;66;03m# Otherwise it looks like a bug in the code.\u001b[39;00m\n\u001b[0;32m--> 466\u001b[0m             \u001b[43msix\u001b[49m\u001b[38;5;241;43m.\u001b[39;49m\u001b[43mraise_from\u001b[49m\u001b[43m(\u001b[49m\u001b[43me\u001b[49m\u001b[43m,\u001b[49m\u001b[43m \u001b[49m\u001b[38;5;28;43;01mNone\u001b[39;49;00m\u001b[43m)\u001b[49m\n\u001b[1;32m    467\u001b[0m \u001b[38;5;28;01mexcept\u001b[39;00m (SocketTimeout, BaseSSLError, SocketError) \u001b[38;5;28;01mas\u001b[39;00m e:\n",
      "File \u001b[0;32m<string>:3\u001b[0m, in \u001b[0;36mraise_from\u001b[0;34m(value, from_value)\u001b[0m\n",
      "File \u001b[0;32m~/anaconda3/envs/nlu/lib/python3.9/site-packages/urllib3/connectionpool.py:461\u001b[0m, in \u001b[0;36mHTTPConnectionPool._make_request\u001b[0;34m(self, conn, method, url, timeout, chunked, **httplib_request_kw)\u001b[0m\n\u001b[1;32m    460\u001b[0m \u001b[38;5;28;01mtry\u001b[39;00m:\n\u001b[0;32m--> 461\u001b[0m     httplib_response \u001b[38;5;241m=\u001b[39m \u001b[43mconn\u001b[49m\u001b[38;5;241;43m.\u001b[39;49m\u001b[43mgetresponse\u001b[49m\u001b[43m(\u001b[49m\u001b[43m)\u001b[49m\n\u001b[1;32m    462\u001b[0m \u001b[38;5;28;01mexcept\u001b[39;00m \u001b[38;5;167;01mBaseException\u001b[39;00m \u001b[38;5;28;01mas\u001b[39;00m e:\n\u001b[1;32m    463\u001b[0m     \u001b[38;5;66;03m# Remove the TypeError from the exception chain in\u001b[39;00m\n\u001b[1;32m    464\u001b[0m     \u001b[38;5;66;03m# Python 3 (including for exceptions like SystemExit).\u001b[39;00m\n\u001b[1;32m    465\u001b[0m     \u001b[38;5;66;03m# Otherwise it looks like a bug in the code.\u001b[39;00m\n",
      "File \u001b[0;32m~/anaconda3/envs/nlu/lib/python3.9/http/client.py:1377\u001b[0m, in \u001b[0;36mHTTPConnection.getresponse\u001b[0;34m(self)\u001b[0m\n\u001b[1;32m   1376\u001b[0m \u001b[38;5;28;01mtry\u001b[39;00m:\n\u001b[0;32m-> 1377\u001b[0m     \u001b[43mresponse\u001b[49m\u001b[38;5;241;43m.\u001b[39;49m\u001b[43mbegin\u001b[49m\u001b[43m(\u001b[49m\u001b[43m)\u001b[49m\n\u001b[1;32m   1378\u001b[0m \u001b[38;5;28;01mexcept\u001b[39;00m \u001b[38;5;167;01mConnectionError\u001b[39;00m:\n",
      "File \u001b[0;32m~/anaconda3/envs/nlu/lib/python3.9/http/client.py:320\u001b[0m, in \u001b[0;36mHTTPResponse.begin\u001b[0;34m(self)\u001b[0m\n\u001b[1;32m    319\u001b[0m \u001b[38;5;28;01mwhile\u001b[39;00m \u001b[38;5;28;01mTrue\u001b[39;00m:\n\u001b[0;32m--> 320\u001b[0m     version, status, reason \u001b[38;5;241m=\u001b[39m \u001b[38;5;28;43mself\u001b[39;49m\u001b[38;5;241;43m.\u001b[39;49m\u001b[43m_read_status\u001b[49m\u001b[43m(\u001b[49m\u001b[43m)\u001b[49m\n\u001b[1;32m    321\u001b[0m     \u001b[38;5;28;01mif\u001b[39;00m status \u001b[38;5;241m!=\u001b[39m CONTINUE:\n",
      "File \u001b[0;32m~/anaconda3/envs/nlu/lib/python3.9/http/client.py:281\u001b[0m, in \u001b[0;36mHTTPResponse._read_status\u001b[0;34m(self)\u001b[0m\n\u001b[1;32m    280\u001b[0m \u001b[38;5;28;01mdef\u001b[39;00m \u001b[38;5;21m_read_status\u001b[39m(\u001b[38;5;28mself\u001b[39m):\n\u001b[0;32m--> 281\u001b[0m     line \u001b[38;5;241m=\u001b[39m \u001b[38;5;28mstr\u001b[39m(\u001b[38;5;28;43mself\u001b[39;49m\u001b[38;5;241;43m.\u001b[39;49m\u001b[43mfp\u001b[49m\u001b[38;5;241;43m.\u001b[39;49m\u001b[43mreadline\u001b[49m\u001b[43m(\u001b[49m\u001b[43m_MAXLINE\u001b[49m\u001b[43m \u001b[49m\u001b[38;5;241;43m+\u001b[39;49m\u001b[43m \u001b[49m\u001b[38;5;241;43m1\u001b[39;49m\u001b[43m)\u001b[49m, \u001b[38;5;124m\"\u001b[39m\u001b[38;5;124miso-8859-1\u001b[39m\u001b[38;5;124m\"\u001b[39m)\n\u001b[1;32m    282\u001b[0m     \u001b[38;5;28;01mif\u001b[39;00m \u001b[38;5;28mlen\u001b[39m(line) \u001b[38;5;241m>\u001b[39m _MAXLINE:\n",
      "File \u001b[0;32m~/anaconda3/envs/nlu/lib/python3.9/socket.py:704\u001b[0m, in \u001b[0;36mSocketIO.readinto\u001b[0;34m(self, b)\u001b[0m\n\u001b[1;32m    703\u001b[0m \u001b[38;5;28;01mtry\u001b[39;00m:\n\u001b[0;32m--> 704\u001b[0m     \u001b[38;5;28;01mreturn\u001b[39;00m \u001b[38;5;28;43mself\u001b[39;49m\u001b[38;5;241;43m.\u001b[39;49m\u001b[43m_sock\u001b[49m\u001b[38;5;241;43m.\u001b[39;49m\u001b[43mrecv_into\u001b[49m\u001b[43m(\u001b[49m\u001b[43mb\u001b[49m\u001b[43m)\u001b[49m\n\u001b[1;32m    705\u001b[0m \u001b[38;5;28;01mexcept\u001b[39;00m timeout:\n",
      "File \u001b[0;32m~/anaconda3/envs/nlu/lib/python3.9/ssl.py:1275\u001b[0m, in \u001b[0;36mSSLSocket.recv_into\u001b[0;34m(self, buffer, nbytes, flags)\u001b[0m\n\u001b[1;32m   1272\u001b[0m         \u001b[38;5;28;01mraise\u001b[39;00m \u001b[38;5;167;01mValueError\u001b[39;00m(\n\u001b[1;32m   1273\u001b[0m           \u001b[38;5;124m\"\u001b[39m\u001b[38;5;124mnon-zero flags not allowed in calls to recv_into() on \u001b[39m\u001b[38;5;132;01m%s\u001b[39;00m\u001b[38;5;124m\"\u001b[39m \u001b[38;5;241m%\u001b[39m\n\u001b[1;32m   1274\u001b[0m           \u001b[38;5;28mself\u001b[39m\u001b[38;5;241m.\u001b[39m\u001b[38;5;18m__class__\u001b[39m)\n\u001b[0;32m-> 1275\u001b[0m     \u001b[38;5;28;01mreturn\u001b[39;00m \u001b[38;5;28;43mself\u001b[39;49m\u001b[38;5;241;43m.\u001b[39;49m\u001b[43mread\u001b[49m\u001b[43m(\u001b[49m\u001b[43mnbytes\u001b[49m\u001b[43m,\u001b[49m\u001b[43m \u001b[49m\u001b[43mbuffer\u001b[49m\u001b[43m)\u001b[49m\n\u001b[1;32m   1276\u001b[0m \u001b[38;5;28;01melse\u001b[39;00m:\n",
      "File \u001b[0;32m~/anaconda3/envs/nlu/lib/python3.9/ssl.py:1133\u001b[0m, in \u001b[0;36mSSLSocket.read\u001b[0;34m(self, len, buffer)\u001b[0m\n\u001b[1;32m   1132\u001b[0m \u001b[38;5;28;01mif\u001b[39;00m buffer \u001b[38;5;129;01mis\u001b[39;00m \u001b[38;5;129;01mnot\u001b[39;00m \u001b[38;5;28;01mNone\u001b[39;00m:\n\u001b[0;32m-> 1133\u001b[0m     \u001b[38;5;28;01mreturn\u001b[39;00m \u001b[38;5;28;43mself\u001b[39;49m\u001b[38;5;241;43m.\u001b[39;49m\u001b[43m_sslobj\u001b[49m\u001b[38;5;241;43m.\u001b[39;49m\u001b[43mread\u001b[49m\u001b[43m(\u001b[49m\u001b[38;5;28;43mlen\u001b[39;49m\u001b[43m,\u001b[49m\u001b[43m \u001b[49m\u001b[43mbuffer\u001b[49m\u001b[43m)\u001b[49m\n\u001b[1;32m   1134\u001b[0m \u001b[38;5;28;01melse\u001b[39;00m:\n",
      "\u001b[0;31mtimeout\u001b[0m: The read operation timed out",
      "\nDuring handling of the above exception, another exception occurred:\n",
      "\u001b[0;31mReadTimeoutError\u001b[0m                          Traceback (most recent call last)",
      "File \u001b[0;32m~/anaconda3/envs/nlu/lib/python3.9/site-packages/requests/adapters.py:486\u001b[0m, in \u001b[0;36mHTTPAdapter.send\u001b[0;34m(self, request, stream, timeout, verify, cert, proxies)\u001b[0m\n\u001b[1;32m    485\u001b[0m \u001b[38;5;28;01mtry\u001b[39;00m:\n\u001b[0;32m--> 486\u001b[0m     resp \u001b[38;5;241m=\u001b[39m \u001b[43mconn\u001b[49m\u001b[38;5;241;43m.\u001b[39;49m\u001b[43murlopen\u001b[49m\u001b[43m(\u001b[49m\n\u001b[1;32m    487\u001b[0m \u001b[43m        \u001b[49m\u001b[43mmethod\u001b[49m\u001b[38;5;241;43m=\u001b[39;49m\u001b[43mrequest\u001b[49m\u001b[38;5;241;43m.\u001b[39;49m\u001b[43mmethod\u001b[49m\u001b[43m,\u001b[49m\n\u001b[1;32m    488\u001b[0m \u001b[43m        \u001b[49m\u001b[43murl\u001b[49m\u001b[38;5;241;43m=\u001b[39;49m\u001b[43murl\u001b[49m\u001b[43m,\u001b[49m\n\u001b[1;32m    489\u001b[0m \u001b[43m        \u001b[49m\u001b[43mbody\u001b[49m\u001b[38;5;241;43m=\u001b[39;49m\u001b[43mrequest\u001b[49m\u001b[38;5;241;43m.\u001b[39;49m\u001b[43mbody\u001b[49m\u001b[43m,\u001b[49m\n\u001b[1;32m    490\u001b[0m \u001b[43m        \u001b[49m\u001b[43mheaders\u001b[49m\u001b[38;5;241;43m=\u001b[39;49m\u001b[43mrequest\u001b[49m\u001b[38;5;241;43m.\u001b[39;49m\u001b[43mheaders\u001b[49m\u001b[43m,\u001b[49m\n\u001b[1;32m    491\u001b[0m \u001b[43m        \u001b[49m\u001b[43mredirect\u001b[49m\u001b[38;5;241;43m=\u001b[39;49m\u001b[38;5;28;43;01mFalse\u001b[39;49;00m\u001b[43m,\u001b[49m\n\u001b[1;32m    492\u001b[0m \u001b[43m        \u001b[49m\u001b[43massert_same_host\u001b[49m\u001b[38;5;241;43m=\u001b[39;49m\u001b[38;5;28;43;01mFalse\u001b[39;49;00m\u001b[43m,\u001b[49m\n\u001b[1;32m    493\u001b[0m \u001b[43m        \u001b[49m\u001b[43mpreload_content\u001b[49m\u001b[38;5;241;43m=\u001b[39;49m\u001b[38;5;28;43;01mFalse\u001b[39;49;00m\u001b[43m,\u001b[49m\n\u001b[1;32m    494\u001b[0m \u001b[43m        \u001b[49m\u001b[43mdecode_content\u001b[49m\u001b[38;5;241;43m=\u001b[39;49m\u001b[38;5;28;43;01mFalse\u001b[39;49;00m\u001b[43m,\u001b[49m\n\u001b[1;32m    495\u001b[0m \u001b[43m        \u001b[49m\u001b[43mretries\u001b[49m\u001b[38;5;241;43m=\u001b[39;49m\u001b[38;5;28;43mself\u001b[39;49m\u001b[38;5;241;43m.\u001b[39;49m\u001b[43mmax_retries\u001b[49m\u001b[43m,\u001b[49m\n\u001b[1;32m    496\u001b[0m \u001b[43m        \u001b[49m\u001b[43mtimeout\u001b[49m\u001b[38;5;241;43m=\u001b[39;49m\u001b[43mtimeout\u001b[49m\u001b[43m,\u001b[49m\n\u001b[1;32m    497\u001b[0m \u001b[43m        \u001b[49m\u001b[43mchunked\u001b[49m\u001b[38;5;241;43m=\u001b[39;49m\u001b[43mchunked\u001b[49m\u001b[43m,\u001b[49m\n\u001b[1;32m    498\u001b[0m \u001b[43m    \u001b[49m\u001b[43m)\u001b[49m\n\u001b[1;32m    500\u001b[0m \u001b[38;5;28;01mexcept\u001b[39;00m (ProtocolError, \u001b[38;5;167;01mOSError\u001b[39;00m) \u001b[38;5;28;01mas\u001b[39;00m err:\n",
      "File \u001b[0;32m~/anaconda3/envs/nlu/lib/python3.9/site-packages/urllib3/connectionpool.py:798\u001b[0m, in \u001b[0;36mHTTPConnectionPool.urlopen\u001b[0;34m(self, method, url, body, headers, retries, redirect, assert_same_host, timeout, pool_timeout, release_conn, chunked, body_pos, **response_kw)\u001b[0m\n\u001b[1;32m    796\u001b[0m     e \u001b[38;5;241m=\u001b[39m ProtocolError(\u001b[38;5;124m\"\u001b[39m\u001b[38;5;124mConnection aborted.\u001b[39m\u001b[38;5;124m\"\u001b[39m, e)\n\u001b[0;32m--> 798\u001b[0m retries \u001b[38;5;241m=\u001b[39m \u001b[43mretries\u001b[49m\u001b[38;5;241;43m.\u001b[39;49m\u001b[43mincrement\u001b[49m\u001b[43m(\u001b[49m\n\u001b[1;32m    799\u001b[0m \u001b[43m    \u001b[49m\u001b[43mmethod\u001b[49m\u001b[43m,\u001b[49m\u001b[43m \u001b[49m\u001b[43murl\u001b[49m\u001b[43m,\u001b[49m\u001b[43m \u001b[49m\u001b[43merror\u001b[49m\u001b[38;5;241;43m=\u001b[39;49m\u001b[43me\u001b[49m\u001b[43m,\u001b[49m\u001b[43m \u001b[49m\u001b[43m_pool\u001b[49m\u001b[38;5;241;43m=\u001b[39;49m\u001b[38;5;28;43mself\u001b[39;49m\u001b[43m,\u001b[49m\u001b[43m \u001b[49m\u001b[43m_stacktrace\u001b[49m\u001b[38;5;241;43m=\u001b[39;49m\u001b[43msys\u001b[49m\u001b[38;5;241;43m.\u001b[39;49m\u001b[43mexc_info\u001b[49m\u001b[43m(\u001b[49m\u001b[43m)\u001b[49m\u001b[43m[\u001b[49m\u001b[38;5;241;43m2\u001b[39;49m\u001b[43m]\u001b[49m\n\u001b[1;32m    800\u001b[0m \u001b[43m\u001b[49m\u001b[43m)\u001b[49m\n\u001b[1;32m    801\u001b[0m retries\u001b[38;5;241m.\u001b[39msleep()\n",
      "File \u001b[0;32m~/anaconda3/envs/nlu/lib/python3.9/site-packages/urllib3/util/retry.py:550\u001b[0m, in \u001b[0;36mRetry.increment\u001b[0;34m(self, method, url, response, error, _pool, _stacktrace)\u001b[0m\n\u001b[1;32m    549\u001b[0m \u001b[38;5;28;01mif\u001b[39;00m read \u001b[38;5;129;01mis\u001b[39;00m \u001b[38;5;28;01mFalse\u001b[39;00m \u001b[38;5;129;01mor\u001b[39;00m \u001b[38;5;129;01mnot\u001b[39;00m \u001b[38;5;28mself\u001b[39m\u001b[38;5;241m.\u001b[39m_is_method_retryable(method):\n\u001b[0;32m--> 550\u001b[0m     \u001b[38;5;28;01mraise\u001b[39;00m \u001b[43msix\u001b[49m\u001b[38;5;241;43m.\u001b[39;49m\u001b[43mreraise\u001b[49m\u001b[43m(\u001b[49m\u001b[38;5;28;43mtype\u001b[39;49m\u001b[43m(\u001b[49m\u001b[43merror\u001b[49m\u001b[43m)\u001b[49m\u001b[43m,\u001b[49m\u001b[43m \u001b[49m\u001b[43merror\u001b[49m\u001b[43m,\u001b[49m\u001b[43m \u001b[49m\u001b[43m_stacktrace\u001b[49m\u001b[43m)\u001b[49m\n\u001b[1;32m    551\u001b[0m \u001b[38;5;28;01melif\u001b[39;00m read \u001b[38;5;129;01mis\u001b[39;00m \u001b[38;5;129;01mnot\u001b[39;00m \u001b[38;5;28;01mNone\u001b[39;00m:\n",
      "File \u001b[0;32m~/anaconda3/envs/nlu/lib/python3.9/site-packages/urllib3/packages/six.py:770\u001b[0m, in \u001b[0;36mreraise\u001b[0;34m(tp, value, tb)\u001b[0m\n\u001b[1;32m    769\u001b[0m         \u001b[38;5;28;01mraise\u001b[39;00m value\u001b[38;5;241m.\u001b[39mwith_traceback(tb)\n\u001b[0;32m--> 770\u001b[0m     \u001b[38;5;28;01mraise\u001b[39;00m value\n\u001b[1;32m    771\u001b[0m \u001b[38;5;28;01mfinally\u001b[39;00m:\n",
      "File \u001b[0;32m~/anaconda3/envs/nlu/lib/python3.9/site-packages/urllib3/connectionpool.py:714\u001b[0m, in \u001b[0;36mHTTPConnectionPool.urlopen\u001b[0;34m(self, method, url, body, headers, retries, redirect, assert_same_host, timeout, pool_timeout, release_conn, chunked, body_pos, **response_kw)\u001b[0m\n\u001b[1;32m    713\u001b[0m \u001b[38;5;66;03m# Make the request on the httplib connection object.\u001b[39;00m\n\u001b[0;32m--> 714\u001b[0m httplib_response \u001b[38;5;241m=\u001b[39m \u001b[38;5;28;43mself\u001b[39;49m\u001b[38;5;241;43m.\u001b[39;49m\u001b[43m_make_request\u001b[49m\u001b[43m(\u001b[49m\n\u001b[1;32m    715\u001b[0m \u001b[43m    \u001b[49m\u001b[43mconn\u001b[49m\u001b[43m,\u001b[49m\n\u001b[1;32m    716\u001b[0m \u001b[43m    \u001b[49m\u001b[43mmethod\u001b[49m\u001b[43m,\u001b[49m\n\u001b[1;32m    717\u001b[0m \u001b[43m    \u001b[49m\u001b[43murl\u001b[49m\u001b[43m,\u001b[49m\n\u001b[1;32m    718\u001b[0m \u001b[43m    \u001b[49m\u001b[43mtimeout\u001b[49m\u001b[38;5;241;43m=\u001b[39;49m\u001b[43mtimeout_obj\u001b[49m\u001b[43m,\u001b[49m\n\u001b[1;32m    719\u001b[0m \u001b[43m    \u001b[49m\u001b[43mbody\u001b[49m\u001b[38;5;241;43m=\u001b[39;49m\u001b[43mbody\u001b[49m\u001b[43m,\u001b[49m\n\u001b[1;32m    720\u001b[0m \u001b[43m    \u001b[49m\u001b[43mheaders\u001b[49m\u001b[38;5;241;43m=\u001b[39;49m\u001b[43mheaders\u001b[49m\u001b[43m,\u001b[49m\n\u001b[1;32m    721\u001b[0m \u001b[43m    \u001b[49m\u001b[43mchunked\u001b[49m\u001b[38;5;241;43m=\u001b[39;49m\u001b[43mchunked\u001b[49m\u001b[43m,\u001b[49m\n\u001b[1;32m    722\u001b[0m \u001b[43m\u001b[49m\u001b[43m)\u001b[49m\n\u001b[1;32m    724\u001b[0m \u001b[38;5;66;03m# If we're going to release the connection in ``finally:``, then\u001b[39;00m\n\u001b[1;32m    725\u001b[0m \u001b[38;5;66;03m# the response doesn't need to know about the connection. Otherwise\u001b[39;00m\n\u001b[1;32m    726\u001b[0m \u001b[38;5;66;03m# it will also try to release it and we'll have a double-release\u001b[39;00m\n\u001b[1;32m    727\u001b[0m \u001b[38;5;66;03m# mess.\u001b[39;00m\n",
      "File \u001b[0;32m~/anaconda3/envs/nlu/lib/python3.9/site-packages/urllib3/connectionpool.py:468\u001b[0m, in \u001b[0;36mHTTPConnectionPool._make_request\u001b[0;34m(self, conn, method, url, timeout, chunked, **httplib_request_kw)\u001b[0m\n\u001b[1;32m    467\u001b[0m \u001b[38;5;28;01mexcept\u001b[39;00m (SocketTimeout, BaseSSLError, SocketError) \u001b[38;5;28;01mas\u001b[39;00m e:\n\u001b[0;32m--> 468\u001b[0m     \u001b[38;5;28;43mself\u001b[39;49m\u001b[38;5;241;43m.\u001b[39;49m\u001b[43m_raise_timeout\u001b[49m\u001b[43m(\u001b[49m\u001b[43merr\u001b[49m\u001b[38;5;241;43m=\u001b[39;49m\u001b[43me\u001b[49m\u001b[43m,\u001b[49m\u001b[43m \u001b[49m\u001b[43murl\u001b[49m\u001b[38;5;241;43m=\u001b[39;49m\u001b[43murl\u001b[49m\u001b[43m,\u001b[49m\u001b[43m \u001b[49m\u001b[43mtimeout_value\u001b[49m\u001b[38;5;241;43m=\u001b[39;49m\u001b[43mread_timeout\u001b[49m\u001b[43m)\u001b[49m\n\u001b[1;32m    469\u001b[0m     \u001b[38;5;28;01mraise\u001b[39;00m\n",
      "File \u001b[0;32m~/anaconda3/envs/nlu/lib/python3.9/site-packages/urllib3/connectionpool.py:357\u001b[0m, in \u001b[0;36mHTTPConnectionPool._raise_timeout\u001b[0;34m(self, err, url, timeout_value)\u001b[0m\n\u001b[1;32m    356\u001b[0m \u001b[38;5;28;01mif\u001b[39;00m \u001b[38;5;28misinstance\u001b[39m(err, SocketTimeout):\n\u001b[0;32m--> 357\u001b[0m     \u001b[38;5;28;01mraise\u001b[39;00m ReadTimeoutError(\n\u001b[1;32m    358\u001b[0m         \u001b[38;5;28mself\u001b[39m, url, \u001b[38;5;124m\"\u001b[39m\u001b[38;5;124mRead timed out. (read timeout=\u001b[39m\u001b[38;5;132;01m%s\u001b[39;00m\u001b[38;5;124m)\u001b[39m\u001b[38;5;124m\"\u001b[39m \u001b[38;5;241m%\u001b[39m timeout_value\n\u001b[1;32m    359\u001b[0m     )\n\u001b[1;32m    361\u001b[0m \u001b[38;5;66;03m# See the above comment about EAGAIN in Python 3. In Python 2 we have\u001b[39;00m\n\u001b[1;32m    362\u001b[0m \u001b[38;5;66;03m# to specifically catch it and throw the timeout error\u001b[39;00m\n",
      "\u001b[0;31mReadTimeoutError\u001b[0m: HTTPSConnectionPool(host='api.openai.com', port=443): Read timed out. (read timeout=600)",
      "\nDuring handling of the above exception, another exception occurred:\n",
      "\u001b[0;31mReadTimeout\u001b[0m                               Traceback (most recent call last)",
      "File \u001b[0;32m~/anaconda3/envs/nlu/lib/python3.9/site-packages/openai/api_requestor.py:596\u001b[0m, in \u001b[0;36mAPIRequestor.request_raw\u001b[0;34m(self, method, url, params, supplied_headers, files, stream, request_id, request_timeout)\u001b[0m\n\u001b[1;32m    595\u001b[0m \u001b[38;5;28;01mtry\u001b[39;00m:\n\u001b[0;32m--> 596\u001b[0m     result \u001b[38;5;241m=\u001b[39m \u001b[43m_thread_context\u001b[49m\u001b[38;5;241;43m.\u001b[39;49m\u001b[43msession\u001b[49m\u001b[38;5;241;43m.\u001b[39;49m\u001b[43mrequest\u001b[49m\u001b[43m(\u001b[49m\n\u001b[1;32m    597\u001b[0m \u001b[43m        \u001b[49m\u001b[43mmethod\u001b[49m\u001b[43m,\u001b[49m\n\u001b[1;32m    598\u001b[0m \u001b[43m        \u001b[49m\u001b[43mabs_url\u001b[49m\u001b[43m,\u001b[49m\n\u001b[1;32m    599\u001b[0m \u001b[43m        \u001b[49m\u001b[43mheaders\u001b[49m\u001b[38;5;241;43m=\u001b[39;49m\u001b[43mheaders\u001b[49m\u001b[43m,\u001b[49m\n\u001b[1;32m    600\u001b[0m \u001b[43m        \u001b[49m\u001b[43mdata\u001b[49m\u001b[38;5;241;43m=\u001b[39;49m\u001b[43mdata\u001b[49m\u001b[43m,\u001b[49m\n\u001b[1;32m    601\u001b[0m \u001b[43m        \u001b[49m\u001b[43mfiles\u001b[49m\u001b[38;5;241;43m=\u001b[39;49m\u001b[43mfiles\u001b[49m\u001b[43m,\u001b[49m\n\u001b[1;32m    602\u001b[0m \u001b[43m        \u001b[49m\u001b[43mstream\u001b[49m\u001b[38;5;241;43m=\u001b[39;49m\u001b[43mstream\u001b[49m\u001b[43m,\u001b[49m\n\u001b[1;32m    603\u001b[0m \u001b[43m        \u001b[49m\u001b[43mtimeout\u001b[49m\u001b[38;5;241;43m=\u001b[39;49m\u001b[43mrequest_timeout\u001b[49m\u001b[43m \u001b[49m\u001b[38;5;28;43;01mif\u001b[39;49;00m\u001b[43m \u001b[49m\u001b[43mrequest_timeout\u001b[49m\u001b[43m \u001b[49m\u001b[38;5;28;43;01melse\u001b[39;49;00m\u001b[43m \u001b[49m\u001b[43mTIMEOUT_SECS\u001b[49m\u001b[43m,\u001b[49m\n\u001b[1;32m    604\u001b[0m \u001b[43m        \u001b[49m\u001b[43mproxies\u001b[49m\u001b[38;5;241;43m=\u001b[39;49m\u001b[43m_thread_context\u001b[49m\u001b[38;5;241;43m.\u001b[39;49m\u001b[43msession\u001b[49m\u001b[38;5;241;43m.\u001b[39;49m\u001b[43mproxies\u001b[49m\u001b[43m,\u001b[49m\n\u001b[1;32m    605\u001b[0m \u001b[43m    \u001b[49m\u001b[43m)\u001b[49m\n\u001b[1;32m    606\u001b[0m \u001b[38;5;28;01mexcept\u001b[39;00m requests\u001b[38;5;241m.\u001b[39mexceptions\u001b[38;5;241m.\u001b[39mTimeout \u001b[38;5;28;01mas\u001b[39;00m e:\n",
      "File \u001b[0;32m~/anaconda3/envs/nlu/lib/python3.9/site-packages/requests/sessions.py:589\u001b[0m, in \u001b[0;36mSession.request\u001b[0;34m(self, method, url, params, data, headers, cookies, files, auth, timeout, allow_redirects, proxies, hooks, stream, verify, cert, json)\u001b[0m\n\u001b[1;32m    588\u001b[0m send_kwargs\u001b[38;5;241m.\u001b[39mupdate(settings)\n\u001b[0;32m--> 589\u001b[0m resp \u001b[38;5;241m=\u001b[39m \u001b[38;5;28;43mself\u001b[39;49m\u001b[38;5;241;43m.\u001b[39;49m\u001b[43msend\u001b[49m\u001b[43m(\u001b[49m\u001b[43mprep\u001b[49m\u001b[43m,\u001b[49m\u001b[43m \u001b[49m\u001b[38;5;241;43m*\u001b[39;49m\u001b[38;5;241;43m*\u001b[39;49m\u001b[43msend_kwargs\u001b[49m\u001b[43m)\u001b[49m\n\u001b[1;32m    591\u001b[0m \u001b[38;5;28;01mreturn\u001b[39;00m resp\n",
      "File \u001b[0;32m~/anaconda3/envs/nlu/lib/python3.9/site-packages/requests/sessions.py:703\u001b[0m, in \u001b[0;36mSession.send\u001b[0;34m(self, request, **kwargs)\u001b[0m\n\u001b[1;32m    702\u001b[0m \u001b[38;5;66;03m# Send the request\u001b[39;00m\n\u001b[0;32m--> 703\u001b[0m r \u001b[38;5;241m=\u001b[39m \u001b[43madapter\u001b[49m\u001b[38;5;241;43m.\u001b[39;49m\u001b[43msend\u001b[49m\u001b[43m(\u001b[49m\u001b[43mrequest\u001b[49m\u001b[43m,\u001b[49m\u001b[43m \u001b[49m\u001b[38;5;241;43m*\u001b[39;49m\u001b[38;5;241;43m*\u001b[39;49m\u001b[43mkwargs\u001b[49m\u001b[43m)\u001b[49m\n\u001b[1;32m    705\u001b[0m \u001b[38;5;66;03m# Total elapsed time of the request (approximately)\u001b[39;00m\n",
      "File \u001b[0;32m~/anaconda3/envs/nlu/lib/python3.9/site-packages/requests/adapters.py:532\u001b[0m, in \u001b[0;36mHTTPAdapter.send\u001b[0;34m(self, request, stream, timeout, verify, cert, proxies)\u001b[0m\n\u001b[1;32m    531\u001b[0m \u001b[38;5;28;01melif\u001b[39;00m \u001b[38;5;28misinstance\u001b[39m(e, ReadTimeoutError):\n\u001b[0;32m--> 532\u001b[0m     \u001b[38;5;28;01mraise\u001b[39;00m ReadTimeout(e, request\u001b[38;5;241m=\u001b[39mrequest)\n\u001b[1;32m    533\u001b[0m \u001b[38;5;28;01melif\u001b[39;00m \u001b[38;5;28misinstance\u001b[39m(e, _InvalidHeader):\n",
      "\u001b[0;31mReadTimeout\u001b[0m: HTTPSConnectionPool(host='api.openai.com', port=443): Read timed out. (read timeout=600)",
      "\nThe above exception was the direct cause of the following exception:\n",
      "\u001b[0;31mTimeout\u001b[0m                                   Traceback (most recent call last)",
      "Cell \u001b[0;32mIn[39], line 4\u001b[0m\n\u001b[1;32m      2\u001b[0m \u001b[38;5;28mprint\u001b[39m(\u001b[38;5;124mf\u001b[39m\u001b[38;5;124m'\u001b[39m\u001b[38;5;124mStart: \u001b[39m\u001b[38;5;132;01m{\u001b[39;00mstart\u001b[38;5;132;01m}\u001b[39;00m\u001b[38;5;124m'\u001b[39m)\n\u001b[1;32m      3\u001b[0m answers \u001b[38;5;241m=\u001b[39m []\n\u001b[0;32m----> 4\u001b[0m \u001b[43mexp1\u001b[49m\u001b[43m(\u001b[49m\u001b[43m)\u001b[49m\n\u001b[1;32m      5\u001b[0m end \u001b[38;5;241m=\u001b[39m datetime\u001b[38;5;241m.\u001b[39mnow()\n\u001b[1;32m      6\u001b[0m \u001b[38;5;28mprint\u001b[39m(\u001b[38;5;124mf\u001b[39m\u001b[38;5;124m'\u001b[39m\u001b[38;5;124mEnd: \u001b[39m\u001b[38;5;132;01m{\u001b[39;00mend\u001b[38;5;132;01m}\u001b[39;00m\u001b[38;5;124m'\u001b[39m)\n",
      "Cell \u001b[0;32mIn[38], line 4\u001b[0m, in \u001b[0;36mexp1\u001b[0;34m(trials)\u001b[0m\n\u001b[1;32m      2\u001b[0m \u001b[38;5;28;01mfor\u001b[39;00m i \u001b[38;5;129;01min\u001b[39;00m \u001b[38;5;28mrange\u001b[39m(trials):\n\u001b[1;32m      3\u001b[0m     \u001b[38;5;28mprint\u001b[39m(\u001b[38;5;124mf\u001b[39m\u001b[38;5;124m'\u001b[39m\u001b[38;5;132;01m{\u001b[39;00mi\u001b[38;5;132;01m}\u001b[39;00m\u001b[38;5;124m)\u001b[39m\u001b[38;5;124m'\u001b[39m\u001b[38;5;241m.\u001b[39mrjust(\u001b[38;5;241m4\u001b[39m, \u001b[38;5;124m'\u001b[39m\u001b[38;5;124m \u001b[39m\u001b[38;5;124m'\u001b[39m), end\u001b[38;5;241m=\u001b[39m\u001b[38;5;124m'\u001b[39m\u001b[38;5;124m'\u001b[39m)\n\u001b[0;32m----> 4\u001b[0m     response \u001b[38;5;241m=\u001b[39m \u001b[43mopenai\u001b[49m\u001b[38;5;241;43m.\u001b[39;49m\u001b[43mChatCompletion\u001b[49m\u001b[38;5;241;43m.\u001b[39;49m\u001b[43mcreate\u001b[49m\u001b[43m(\u001b[49m\n\u001b[1;32m      5\u001b[0m \u001b[43m        \u001b[49m\u001b[43mmodel\u001b[49m\u001b[38;5;241;43m=\u001b[39;49m\u001b[38;5;124;43m\"\u001b[39;49m\u001b[38;5;124;43mgpt-3.5-turbo\u001b[39;49m\u001b[38;5;124;43m\"\u001b[39;49m\u001b[43m,\u001b[49m\n\u001b[1;32m      6\u001b[0m \u001b[43m        \u001b[49m\u001b[43mmessages\u001b[49m\u001b[38;5;241;43m=\u001b[39;49m\u001b[43m[\u001b[49m\n\u001b[1;32m      7\u001b[0m \u001b[43m            \u001b[49m\u001b[43m{\u001b[49m\u001b[38;5;124;43m\"\u001b[39;49m\u001b[38;5;124;43mrole\u001b[39;49m\u001b[38;5;124;43m\"\u001b[39;49m\u001b[43m:\u001b[49m\u001b[43m \u001b[49m\u001b[38;5;124;43m\"\u001b[39;49m\u001b[38;5;124;43muser\u001b[39;49m\u001b[38;5;124;43m\"\u001b[39;49m\u001b[43m,\u001b[49m\u001b[43m \u001b[49m\n\u001b[1;32m      8\u001b[0m \u001b[43m             \u001b[49m\u001b[38;5;124;43m\"\u001b[39;49m\u001b[38;5;124;43mcontent\u001b[39;49m\u001b[38;5;124;43m\"\u001b[39;49m\u001b[43m:\u001b[49m\u001b[43m \u001b[49m\u001b[43mquestion\u001b[49m\u001b[43m}\u001b[49m\u001b[43m,\u001b[49m\n\u001b[1;32m      9\u001b[0m \u001b[43m        \u001b[49m\u001b[43m]\u001b[49m\n\u001b[1;32m     10\u001b[0m \u001b[43m    \u001b[49m\u001b[43m)\u001b[49m\n\u001b[1;32m     11\u001b[0m     answer \u001b[38;5;241m=\u001b[39m response\u001b[38;5;241m.\u001b[39mchoices[\u001b[38;5;241m0\u001b[39m][\u001b[38;5;124m'\u001b[39m\u001b[38;5;124mmessage\u001b[39m\u001b[38;5;124m'\u001b[39m][\u001b[38;5;124m'\u001b[39m\u001b[38;5;124mcontent\u001b[39m\u001b[38;5;124m'\u001b[39m]\n\u001b[1;32m     12\u001b[0m     correct \u001b[38;5;241m=\u001b[39m is_correct(answer)\n",
      "File \u001b[0;32m~/anaconda3/envs/nlu/lib/python3.9/site-packages/openai/api_resources/chat_completion.py:25\u001b[0m, in \u001b[0;36mChatCompletion.create\u001b[0;34m(cls, *args, **kwargs)\u001b[0m\n\u001b[1;32m     23\u001b[0m \u001b[38;5;28;01mwhile\u001b[39;00m \u001b[38;5;28;01mTrue\u001b[39;00m:\n\u001b[1;32m     24\u001b[0m     \u001b[38;5;28;01mtry\u001b[39;00m:\n\u001b[0;32m---> 25\u001b[0m         \u001b[38;5;28;01mreturn\u001b[39;00m \u001b[38;5;28;43msuper\u001b[39;49m\u001b[43m(\u001b[49m\u001b[43m)\u001b[49m\u001b[38;5;241;43m.\u001b[39;49m\u001b[43mcreate\u001b[49m\u001b[43m(\u001b[49m\u001b[38;5;241;43m*\u001b[39;49m\u001b[43margs\u001b[49m\u001b[43m,\u001b[49m\u001b[43m \u001b[49m\u001b[38;5;241;43m*\u001b[39;49m\u001b[38;5;241;43m*\u001b[39;49m\u001b[43mkwargs\u001b[49m\u001b[43m)\u001b[49m\n\u001b[1;32m     26\u001b[0m     \u001b[38;5;28;01mexcept\u001b[39;00m TryAgain \u001b[38;5;28;01mas\u001b[39;00m e:\n\u001b[1;32m     27\u001b[0m         \u001b[38;5;28;01mif\u001b[39;00m timeout \u001b[38;5;129;01mis\u001b[39;00m \u001b[38;5;129;01mnot\u001b[39;00m \u001b[38;5;28;01mNone\u001b[39;00m \u001b[38;5;129;01mand\u001b[39;00m time\u001b[38;5;241m.\u001b[39mtime() \u001b[38;5;241m>\u001b[39m start \u001b[38;5;241m+\u001b[39m timeout:\n",
      "File \u001b[0;32m~/anaconda3/envs/nlu/lib/python3.9/site-packages/openai/api_resources/abstract/engine_api_resource.py:153\u001b[0m, in \u001b[0;36mEngineAPIResource.create\u001b[0;34m(cls, api_key, api_base, api_type, request_id, api_version, organization, **params)\u001b[0m\n\u001b[1;32m    127\u001b[0m \u001b[38;5;129m@classmethod\u001b[39m\n\u001b[1;32m    128\u001b[0m \u001b[38;5;28;01mdef\u001b[39;00m \u001b[38;5;21mcreate\u001b[39m(\n\u001b[1;32m    129\u001b[0m     \u001b[38;5;28mcls\u001b[39m,\n\u001b[0;32m   (...)\u001b[0m\n\u001b[1;32m    136\u001b[0m     \u001b[38;5;241m*\u001b[39m\u001b[38;5;241m*\u001b[39mparams,\n\u001b[1;32m    137\u001b[0m ):\n\u001b[1;32m    138\u001b[0m     (\n\u001b[1;32m    139\u001b[0m         deployment_id,\n\u001b[1;32m    140\u001b[0m         engine,\n\u001b[0;32m   (...)\u001b[0m\n\u001b[1;32m    150\u001b[0m         api_key, api_base, api_type, api_version, organization, \u001b[38;5;241m*\u001b[39m\u001b[38;5;241m*\u001b[39mparams\n\u001b[1;32m    151\u001b[0m     )\n\u001b[0;32m--> 153\u001b[0m     response, _, api_key \u001b[38;5;241m=\u001b[39m \u001b[43mrequestor\u001b[49m\u001b[38;5;241;43m.\u001b[39;49m\u001b[43mrequest\u001b[49m\u001b[43m(\u001b[49m\n\u001b[1;32m    154\u001b[0m \u001b[43m        \u001b[49m\u001b[38;5;124;43m\"\u001b[39;49m\u001b[38;5;124;43mpost\u001b[39;49m\u001b[38;5;124;43m\"\u001b[39;49m\u001b[43m,\u001b[49m\n\u001b[1;32m    155\u001b[0m \u001b[43m        \u001b[49m\u001b[43murl\u001b[49m\u001b[43m,\u001b[49m\n\u001b[1;32m    156\u001b[0m \u001b[43m        \u001b[49m\u001b[43mparams\u001b[49m\u001b[38;5;241;43m=\u001b[39;49m\u001b[43mparams\u001b[49m\u001b[43m,\u001b[49m\n\u001b[1;32m    157\u001b[0m \u001b[43m        \u001b[49m\u001b[43mheaders\u001b[49m\u001b[38;5;241;43m=\u001b[39;49m\u001b[43mheaders\u001b[49m\u001b[43m,\u001b[49m\n\u001b[1;32m    158\u001b[0m \u001b[43m        \u001b[49m\u001b[43mstream\u001b[49m\u001b[38;5;241;43m=\u001b[39;49m\u001b[43mstream\u001b[49m\u001b[43m,\u001b[49m\n\u001b[1;32m    159\u001b[0m \u001b[43m        \u001b[49m\u001b[43mrequest_id\u001b[49m\u001b[38;5;241;43m=\u001b[39;49m\u001b[43mrequest_id\u001b[49m\u001b[43m,\u001b[49m\n\u001b[1;32m    160\u001b[0m \u001b[43m        \u001b[49m\u001b[43mrequest_timeout\u001b[49m\u001b[38;5;241;43m=\u001b[39;49m\u001b[43mrequest_timeout\u001b[49m\u001b[43m,\u001b[49m\n\u001b[1;32m    161\u001b[0m \u001b[43m    \u001b[49m\u001b[43m)\u001b[49m\n\u001b[1;32m    163\u001b[0m     \u001b[38;5;28;01mif\u001b[39;00m stream:\n\u001b[1;32m    164\u001b[0m         \u001b[38;5;66;03m# must be an iterator\u001b[39;00m\n\u001b[1;32m    165\u001b[0m         \u001b[38;5;28;01massert\u001b[39;00m \u001b[38;5;129;01mnot\u001b[39;00m \u001b[38;5;28misinstance\u001b[39m(response, OpenAIResponse)\n",
      "File \u001b[0;32m~/anaconda3/envs/nlu/lib/python3.9/site-packages/openai/api_requestor.py:288\u001b[0m, in \u001b[0;36mAPIRequestor.request\u001b[0;34m(self, method, url, params, headers, files, stream, request_id, request_timeout)\u001b[0m\n\u001b[1;32m    277\u001b[0m \u001b[38;5;28;01mdef\u001b[39;00m \u001b[38;5;21mrequest\u001b[39m(\n\u001b[1;32m    278\u001b[0m     \u001b[38;5;28mself\u001b[39m,\n\u001b[1;32m    279\u001b[0m     method,\n\u001b[0;32m   (...)\u001b[0m\n\u001b[1;32m    286\u001b[0m     request_timeout: Optional[Union[\u001b[38;5;28mfloat\u001b[39m, Tuple[\u001b[38;5;28mfloat\u001b[39m, \u001b[38;5;28mfloat\u001b[39m]]] \u001b[38;5;241m=\u001b[39m \u001b[38;5;28;01mNone\u001b[39;00m,\n\u001b[1;32m    287\u001b[0m ) \u001b[38;5;241m-\u001b[39m\u001b[38;5;241m>\u001b[39m Tuple[Union[OpenAIResponse, Iterator[OpenAIResponse]], \u001b[38;5;28mbool\u001b[39m, \u001b[38;5;28mstr\u001b[39m]:\n\u001b[0;32m--> 288\u001b[0m     result \u001b[38;5;241m=\u001b[39m \u001b[38;5;28;43mself\u001b[39;49m\u001b[38;5;241;43m.\u001b[39;49m\u001b[43mrequest_raw\u001b[49m\u001b[43m(\u001b[49m\n\u001b[1;32m    289\u001b[0m \u001b[43m        \u001b[49m\u001b[43mmethod\u001b[49m\u001b[38;5;241;43m.\u001b[39;49m\u001b[43mlower\u001b[49m\u001b[43m(\u001b[49m\u001b[43m)\u001b[49m\u001b[43m,\u001b[49m\n\u001b[1;32m    290\u001b[0m \u001b[43m        \u001b[49m\u001b[43murl\u001b[49m\u001b[43m,\u001b[49m\n\u001b[1;32m    291\u001b[0m \u001b[43m        \u001b[49m\u001b[43mparams\u001b[49m\u001b[38;5;241;43m=\u001b[39;49m\u001b[43mparams\u001b[49m\u001b[43m,\u001b[49m\n\u001b[1;32m    292\u001b[0m \u001b[43m        \u001b[49m\u001b[43msupplied_headers\u001b[49m\u001b[38;5;241;43m=\u001b[39;49m\u001b[43mheaders\u001b[49m\u001b[43m,\u001b[49m\n\u001b[1;32m    293\u001b[0m \u001b[43m        \u001b[49m\u001b[43mfiles\u001b[49m\u001b[38;5;241;43m=\u001b[39;49m\u001b[43mfiles\u001b[49m\u001b[43m,\u001b[49m\n\u001b[1;32m    294\u001b[0m \u001b[43m        \u001b[49m\u001b[43mstream\u001b[49m\u001b[38;5;241;43m=\u001b[39;49m\u001b[43mstream\u001b[49m\u001b[43m,\u001b[49m\n\u001b[1;32m    295\u001b[0m \u001b[43m        \u001b[49m\u001b[43mrequest_id\u001b[49m\u001b[38;5;241;43m=\u001b[39;49m\u001b[43mrequest_id\u001b[49m\u001b[43m,\u001b[49m\n\u001b[1;32m    296\u001b[0m \u001b[43m        \u001b[49m\u001b[43mrequest_timeout\u001b[49m\u001b[38;5;241;43m=\u001b[39;49m\u001b[43mrequest_timeout\u001b[49m\u001b[43m,\u001b[49m\n\u001b[1;32m    297\u001b[0m \u001b[43m    \u001b[49m\u001b[43m)\u001b[49m\n\u001b[1;32m    298\u001b[0m     resp, got_stream \u001b[38;5;241m=\u001b[39m \u001b[38;5;28mself\u001b[39m\u001b[38;5;241m.\u001b[39m_interpret_response(result, stream)\n\u001b[1;32m    299\u001b[0m     \u001b[38;5;28;01mreturn\u001b[39;00m resp, got_stream, \u001b[38;5;28mself\u001b[39m\u001b[38;5;241m.\u001b[39mapi_key\n",
      "File \u001b[0;32m~/anaconda3/envs/nlu/lib/python3.9/site-packages/openai/api_requestor.py:607\u001b[0m, in \u001b[0;36mAPIRequestor.request_raw\u001b[0;34m(self, method, url, params, supplied_headers, files, stream, request_id, request_timeout)\u001b[0m\n\u001b[1;32m    596\u001b[0m     result \u001b[38;5;241m=\u001b[39m _thread_context\u001b[38;5;241m.\u001b[39msession\u001b[38;5;241m.\u001b[39mrequest(\n\u001b[1;32m    597\u001b[0m         method,\n\u001b[1;32m    598\u001b[0m         abs_url,\n\u001b[0;32m   (...)\u001b[0m\n\u001b[1;32m    604\u001b[0m         proxies\u001b[38;5;241m=\u001b[39m_thread_context\u001b[38;5;241m.\u001b[39msession\u001b[38;5;241m.\u001b[39mproxies,\n\u001b[1;32m    605\u001b[0m     )\n\u001b[1;32m    606\u001b[0m \u001b[38;5;28;01mexcept\u001b[39;00m requests\u001b[38;5;241m.\u001b[39mexceptions\u001b[38;5;241m.\u001b[39mTimeout \u001b[38;5;28;01mas\u001b[39;00m e:\n\u001b[0;32m--> 607\u001b[0m     \u001b[38;5;28;01mraise\u001b[39;00m error\u001b[38;5;241m.\u001b[39mTimeout(\u001b[38;5;124m\"\u001b[39m\u001b[38;5;124mRequest timed out: \u001b[39m\u001b[38;5;132;01m{}\u001b[39;00m\u001b[38;5;124m\"\u001b[39m\u001b[38;5;241m.\u001b[39mformat(e)) \u001b[38;5;28;01mfrom\u001b[39;00m \u001b[38;5;21;01me\u001b[39;00m\n\u001b[1;32m    608\u001b[0m \u001b[38;5;28;01mexcept\u001b[39;00m requests\u001b[38;5;241m.\u001b[39mexceptions\u001b[38;5;241m.\u001b[39mRequestException \u001b[38;5;28;01mas\u001b[39;00m e:\n\u001b[1;32m    609\u001b[0m     \u001b[38;5;28;01mraise\u001b[39;00m error\u001b[38;5;241m.\u001b[39mAPIConnectionError(\n\u001b[1;32m    610\u001b[0m         \u001b[38;5;124m\"\u001b[39m\u001b[38;5;124mError communicating with OpenAI: \u001b[39m\u001b[38;5;132;01m{}\u001b[39;00m\u001b[38;5;124m\"\u001b[39m\u001b[38;5;241m.\u001b[39mformat(e)\n\u001b[1;32m    611\u001b[0m     ) \u001b[38;5;28;01mfrom\u001b[39;00m \u001b[38;5;21;01me\u001b[39;00m\n",
      "\u001b[0;31mTimeout\u001b[0m: Request timed out: HTTPSConnectionPool(host='api.openai.com', port=443): Read timed out. (read timeout=600)"
     ]
    }
   ],
   "source": [
    "start = datetime.now()\n",
    "print(f'Start: {start}')\n",
    "answers = []\n",
    "exp1()\n",
    "end = datetime.now()\n",
    "print(f'End: {end}')\n",
    "elapsed = end - start\n",
    "print(f'Elapsed: {elapsed}')"
   ]
  },
  {
   "cell_type": "code",
   "execution_count": 40,
   "id": "37478db8",
   "metadata": {},
   "outputs": [
    {
     "data": {
      "text/plain": [
       "84"
      ]
     },
     "execution_count": 40,
     "metadata": {},
     "output_type": "execute_result"
    }
   ],
   "source": [
    "len(answers)"
   ]
  },
  {
   "cell_type": "code",
   "execution_count": 41,
   "id": "8c6b4103",
   "metadata": {},
   "outputs": [
    {
     "data": {
      "text/plain": [
       "16"
      ]
     },
     "execution_count": 41,
     "metadata": {},
     "output_type": "execute_result"
    }
   ],
   "source": [
    "n=100-84\n",
    "n"
   ]
  },
  {
   "cell_type": "code",
   "execution_count": 42,
   "id": "9985d662",
   "metadata": {},
   "outputs": [
    {
     "name": "stdout",
     "output_type": "stream",
     "text": [
      "Start: 2023-10-28 10:59:21.898883\n",
      "  0)INCORRECT\n",
      "  1)INCORRECT\n",
      "  2)correct\n",
      "  3)INCORRECT\n",
      "  4)correct\n",
      "  5)INCORRECT\n",
      "  6)INCORRECT\n",
      "  7)correct\n",
      "  8)correct\n",
      "  9)correct\n",
      " 10)INCORRECT\n",
      " 11)INCORRECT\n",
      " 12)INCORRECT\n",
      " 13)INCORRECT\n",
      " 14)INCORRECT\n",
      " 15)INCORRECT\n",
      "End: 2023-10-28 11:01:59.838959\n",
      "Elapsed: 0:02:37.940076\n"
     ]
    }
   ],
   "source": [
    "start = datetime.now()\n",
    "print(f'Start: {start}')\n",
    "exp1(trials=n)\n",
    "end = datetime.now()\n",
    "print(f'End: {end}')\n",
    "elapsed = end - start\n",
    "print(f'Elapsed: {elapsed}')"
   ]
  },
  {
   "cell_type": "code",
   "execution_count": 43,
   "id": "659a982a",
   "metadata": {},
   "outputs": [
    {
     "data": {
      "text/plain": [
       "100"
      ]
     },
     "execution_count": 43,
     "metadata": {},
     "output_type": "execute_result"
    }
   ],
   "source": [
    "len(answers)"
   ]
  },
  {
   "cell_type": "code",
   "execution_count": 44,
   "id": "3c0511b8",
   "metadata": {},
   "outputs": [],
   "source": [
    "exp1_answers = answers"
   ]
  },
  {
   "cell_type": "code",
   "execution_count": 47,
   "id": "6aada98a",
   "metadata": {},
   "outputs": [],
   "source": [
    "c = Counter()"
   ]
  },
  {
   "cell_type": "code",
   "execution_count": 48,
   "id": "0cee9588",
   "metadata": {},
   "outputs": [
    {
     "data": {
      "text/plain": [
       "{'answer': 'The increase in value was 80000*.01*150=$<<80000*.01*150=120000>>120,000\\nSo the total value of the house is 80,000+120,000=$<<80000+120000=200000>>200,000\\nThis means he made a profit of 200,000-80,000-50,000=$<<200000-80000-50000=70000>>70,000. Answer: \\\\boxed{70,000}.',\n",
       " 'correct': False}"
      ]
     },
     "execution_count": 48,
     "metadata": {},
     "output_type": "execute_result"
    }
   ],
   "source": [
    "exp1_answers[0]"
   ]
  },
  {
   "cell_type": "code",
   "execution_count": 52,
   "id": "f192f052",
   "metadata": {},
   "outputs": [],
   "source": [
    "import re"
   ]
  },
  {
   "cell_type": "code",
   "execution_count": 67,
   "id": "b4cd4090",
   "metadata": {},
   "outputs": [
    {
     "data": {
      "text/plain": [
       "<re.Match object; span=(0, 22), match='Answer: \\\\boxed{70000}.'>"
      ]
     },
     "execution_count": 67,
     "metadata": {},
     "output_type": "execute_result"
    }
   ],
   "source": [
    "re.match(r'.*\\\\boxed{70,?000}.*', 'Answer: \\\\boxed{70000}.')\n"
   ]
  },
  {
   "cell_type": "code",
   "execution_count": 106,
   "id": "60b43cde",
   "metadata": {},
   "outputs": [],
   "source": [
    "def is_correct(answer):\n",
    "    return re.match(r'.*\\\\boxed{70,?000}.*', answer, re.DOTALL) is not None"
   ]
  },
  {
   "cell_type": "code",
   "execution_count": 107,
   "id": "77314af4",
   "metadata": {},
   "outputs": [
    {
     "data": {
      "text/plain": [
       "True"
      ]
     },
     "execution_count": 107,
     "metadata": {},
     "output_type": "execute_result"
    }
   ],
   "source": [
    "is_correct(exp1_answers[0]['answer'])"
   ]
  },
  {
   "cell_type": "code",
   "execution_count": 108,
   "id": "77769156",
   "metadata": {},
   "outputs": [],
   "source": [
    "def update_answer(old_answer):\n",
    "    return {\n",
    "        'answer': old_answer['answer'],\n",
    "        'correct': is_correct(old_answer['answer'])\n",
    "    }"
   ]
  },
  {
   "cell_type": "code",
   "execution_count": 109,
   "id": "e4c96463",
   "metadata": {},
   "outputs": [
    {
     "data": {
      "text/plain": [
       "{'answer': 'The increase in value was 80000*.01*150=$<<80000*.01*150=120000>>120,000\\nSo the total value of the house is 80,000+120,000=$<<80000+120000=200000>>200,000\\nThis means he made a profit of 200,000-80,000-50,000=$<<200000-80000-50000=70000>>70,000. Answer: \\\\boxed{70,000}.',\n",
       " 'correct': True}"
      ]
     },
     "execution_count": 109,
     "metadata": {},
     "output_type": "execute_result"
    }
   ],
   "source": [
    "update_answer(exp1_answers[0])"
   ]
  },
  {
   "cell_type": "code",
   "execution_count": 110,
   "id": "e748f691",
   "metadata": {},
   "outputs": [],
   "source": [
    "updated_answers = [update_answer(a) for a in answers]"
   ]
  },
  {
   "cell_type": "code",
   "execution_count": 111,
   "id": "afc375b5",
   "metadata": {},
   "outputs": [
    {
     "data": {
      "text/plain": [
       "[False, True, False, True, False, False, False, False, False, False]"
      ]
     },
     "execution_count": 111,
     "metadata": {},
     "output_type": "execute_result"
    }
   ],
   "source": [
    "old_correct_values = [a['correct'] for a in answers]\n",
    "old_correct_values[:10]"
   ]
  },
  {
   "cell_type": "code",
   "execution_count": 114,
   "id": "2524f436",
   "metadata": {},
   "outputs": [
    {
     "data": {
      "text/plain": [
       "[True, True, False, True, False, False, False, False, False, True]"
      ]
     },
     "execution_count": 114,
     "metadata": {},
     "output_type": "execute_result"
    }
   ],
   "source": [
    "updated_correct_values = [a['correct'] for a in updated_answers]\n",
    "updated_correct_values[:10]"
   ]
  },
  {
   "cell_type": "code",
   "execution_count": 115,
   "id": "5b40950b",
   "metadata": {},
   "outputs": [
    {
     "data": {
      "text/plain": [
       "Counter({False: 76, True: 24})"
      ]
     },
     "execution_count": 115,
     "metadata": {},
     "output_type": "execute_result"
    }
   ],
   "source": [
    "old_count = Counter(old_correct_values)\n",
    "old_count"
   ]
  },
  {
   "cell_type": "code",
   "execution_count": 116,
   "id": "0dcd5b1b",
   "metadata": {},
   "outputs": [
    {
     "data": {
      "text/plain": [
       "Counter({True: 34, False: 66})"
      ]
     },
     "execution_count": 116,
     "metadata": {},
     "output_type": "execute_result"
    }
   ],
   "source": [
    "updated_count = Counter(updated_correct_values)\n",
    "updated_count"
   ]
  },
  {
   "cell_type": "code",
   "execution_count": 130,
   "id": "512b343b",
   "metadata": {},
   "outputs": [],
   "source": [
    "def output_exp1_results():\n",
    "    basedir = 'data/results/exp1'\n",
    "    os.makedirs('data/results/exp1', exist_ok=True)    \n",
    "    accuracy = updated_count[True] / (updated_count[True] + updated_count[False])\n",
    "    with open(f'{basedir}/exp1_master.txt', 'w') as file:\n",
    "        file.write(f'Accuracy: {accuracy}\\n')\n",
    "        file.write(f'Question: {question}\\n\\n')\n",
    "        file.write(f'Correct Answers:\\n===============\\n')\n",
    "        for answer in updated_answers:\n",
    "            if answer['correct']:\n",
    "                file.write(answer['answer'])\n",
    "                file.write('\\n\\n')\n",
    "                \n",
    "        file.write(f'\\n\\n\\nIncorrect Answers:\\n===============\\n')\n",
    "        for answer in updated_answers:\n",
    "            if not answer['correct']:\n",
    "                file.write(answer['answer'])\n",
    "                file.write('\\n\\n')\n"
   ]
  },
  {
   "cell_type": "code",
   "execution_count": 131,
   "id": "16439c21",
   "metadata": {},
   "outputs": [],
   "source": [
    "output_exp1_results()"
   ]
  },
  {
   "cell_type": "code",
   "execution_count": 134,
   "id": "ce059f1d",
   "metadata": {},
   "outputs": [],
   "source": [
    "correct_answers = [a['answer'] for a in updated_answers if a['correct']]"
   ]
  },
  {
   "cell_type": "code",
   "execution_count": 135,
   "id": "94b465a8",
   "metadata": {},
   "outputs": [
    {
     "data": {
      "text/plain": [
       "34"
      ]
     },
     "execution_count": 135,
     "metadata": {},
     "output_type": "execute_result"
    }
   ],
   "source": [
    "len(correct_answers)"
   ]
  },
  {
   "cell_type": "code",
   "execution_count": 136,
   "id": "ee6f7618",
   "metadata": {},
   "outputs": [],
   "source": [
    "correct_answer_set = set(correct_answers)"
   ]
  },
  {
   "cell_type": "code",
   "execution_count": 137,
   "id": "5fca91dd",
   "metadata": {},
   "outputs": [
    {
     "data": {
      "text/plain": [
       "34"
      ]
     },
     "execution_count": 137,
     "metadata": {},
     "output_type": "execute_result"
    }
   ],
   "source": [
    "len(correct_answer_set)"
   ]
  },
  {
   "cell_type": "code",
   "execution_count": 138,
   "id": "1a72713b",
   "metadata": {},
   "outputs": [
    {
     "data": {
      "text/plain": [
       "True"
      ]
     },
     "execution_count": 138,
     "metadata": {},
     "output_type": "execute_result"
    }
   ],
   "source": [
    "correct_answers[0] in correct_answer_set"
   ]
  },
  {
   "cell_type": "markdown",
   "id": "4a5c8c47",
   "metadata": {},
   "source": [
    "*Note*: There are no duplicates since len(correct_answer_set) == len(correct_answers)"
   ]
  },
  {
   "cell_type": "markdown",
   "id": "32d9e462",
   "metadata": {},
   "source": [
    "## Experiment2\n",
    "Add prompt for good answers"
   ]
  },
  {
   "cell_type": "code",
   "execution_count": 151,
   "id": "322d596e",
   "metadata": {},
   "outputs": [],
   "source": [
    "def generate_exp2_prompt(n=5):\n",
    "    preamble = \"\"\"Given a math problem, generate an answer with a rationale.\n",
    "    \n",
    "Examples:\n",
    "    \"\"\"\n",
    "    lines = []\n",
    "    lines.append(preamble)\n",
    "    examples = random.sample(correct_answers, n)\n",
    "    for example in examples:\n",
    "        lines.append(f'Question: {question}\\n')\n",
    "        lines.append(example)\n",
    "        lines.append('\\n')\n",
    "    lines.append(f'Question: {question}\\n')\n",
    "    return('\\n'.join(lines))\n",
    "        \n",
    "    "
   ]
  },
  {
   "cell_type": "code",
   "execution_count": 153,
   "id": "cc44bad5",
   "metadata": {},
   "outputs": [
    {
     "name": "stdout",
     "output_type": "stream",
     "text": [
      "Given a math problem, generate an answer with a rationale.\n",
      "    \n",
      "Examples:\n",
      "    \n",
      "Question: Josh decides to try flipping a house.  He buys a house for $80,000 and then puts in $50,000 in repairs.  This increased the value of the house by 150%.  How much profit did he make?\n",
      "\n",
      "The value of the house increased by 80,000*.01*150=<<80000*.01*150=120000>>120,000\n",
      "So the total price of the house after repairs is 80,000+50,000=$<<80000+50000=130000>>130,000\n",
      "That means he made a profit of 120,000-50,000 = $<<120000-50000=70000>>70,000. Answer: \\boxed{70000}.\n",
      "\n",
      "\n",
      "Question: Josh decides to try flipping a house.  He buys a house for $80,000 and then puts in $50,000 in repairs.  This increased the value of the house by 150%.  How much profit did he make?\n",
      "\n",
      "The repairs increased the value by 150/100*80000=$<<150/100*80000=120000>>120000\n",
      "So the final value is 80000+120000=$<<80000+120000=200000>>200,000\n",
      "So his profit was 200000-130000=$<<200000-130000=70000>>70,000. Answer: \\boxed{70000}.\n",
      "\n",
      "\n",
      "Question: Josh decides to try flipping a house.  He buys a house for $80,000 and then puts in $50,000 in repairs.  This increased the value of the house by 150%.  How much profit did he make?\n",
      "\n",
      "150% of the house value is 150/100 * 80000 = $<<150/100*80000=120000>>120,000\n",
      "So the value of the house after repairs was 120,000 + 80,000 = $<<120000+80000=200000>>200,000\n",
      "That means his profit was 200,000 - 80,000 - 50,000 = $<<200000-80000-50000=70000>>70,000. Answer: \\boxed{70000}.\n",
      "\n",
      "\n",
      "Question: Josh decides to try flipping a house.  He buys a house for $80,000 and then puts in $50,000 in repairs.  This increased the value of the house by 150%.  How much profit did he make?\n",
      "\n",
      "The repairs increased the value of the house by $80,000*1.5=$<<80000*1.5=120000>>120,000\n",
      "So the total value of the house is $80,000+$120,000=$<<80000+120000=200000>>200,000\n",
      "So his profit was $200,000-$80,000-$50,000=$<<200000-80000-50000=70000>>70,000. Answer: \\boxed{70000}.\n",
      "\n",
      "\n",
      "Question: Josh decides to try flipping a house.  He buys a house for $80,000 and then puts in $50,000 in repairs.  This increased the value of the house by 150%.  How much profit did he make?\n",
      "\n",
      "The value of the house was increased by 80,000*.01*150=$<<80000*.01*150=120000>>120,000\n",
      "That means the house was worth 120,000+80,000=$<<120000+80000=200000>>200,000\n",
      "That means he made a profit of 200,000-80,000-50,000=$<<200000-80000-50000=70000>>70,000. Answer: \\boxed{70000}.\n",
      "\n",
      "\n",
      "Question: Josh decides to try flipping a house.  He buys a house for $80,000 and then puts in $50,000 in repairs.  This increased the value of the house by 150%.  How much profit did he make?\n",
      "\n"
     ]
    }
   ],
   "source": [
    "prompt = generate_exp2_prompt()\n",
    "print(prompt)"
   ]
  },
  {
   "cell_type": "code",
   "execution_count": 154,
   "id": "42f33f23",
   "metadata": {},
   "outputs": [],
   "source": [
    "response = openai.ChatCompletion.create(\n",
    "    model=\"gpt-3.5-turbo\",\n",
    "    messages=[\n",
    "        {\"role\": \"user\", \n",
    "         \"content\": prompt},\n",
    "    ]\n",
    ")"
   ]
  },
  {
   "cell_type": "code",
   "execution_count": 155,
   "id": "af48857d",
   "metadata": {},
   "outputs": [
    {
     "data": {
      "text/plain": [
       "<OpenAIObject chat.completion id=chatcmpl-8EiuCghmxLhvrWrfnJT30gXPqtY4r at 0x113fd6720> JSON: {\n",
       "  \"id\": \"chatcmpl-8EiuCghmxLhvrWrfnJT30gXPqtY4r\",\n",
       "  \"object\": \"chat.completion\",\n",
       "  \"created\": 1698519900,\n",
       "  \"model\": \"gpt-3.5-turbo-0613\",\n",
       "  \"choices\": [\n",
       "    {\n",
       "      \"index\": 0,\n",
       "      \"message\": {\n",
       "        \"role\": \"assistant\",\n",
       "        \"content\": \"The value of the house increased by 150/100 * $80,000 = $<<150/100*80000=120000>>120,000.\\nSo the total value of the house after repairs is $80,000 + $120,000 = $<<80000+120000=200000>>200,000.\\nJosh made a profit of $200,000 - $80,000 - $50,000 = $<<200000-80000-50000=70000>>70,000. Answer: \\\\boxed{70000}.\"\n",
       "      },\n",
       "      \"finish_reason\": \"stop\"\n",
       "    }\n",
       "  ],\n",
       "  \"usage\": {\n",
       "    \"prompt_tokens\": 848,\n",
       "    \"completion_tokens\": 114,\n",
       "    \"total_tokens\": 962\n",
       "  }\n",
       "}"
      ]
     },
     "execution_count": 155,
     "metadata": {},
     "output_type": "execute_result"
    }
   ],
   "source": [
    "response"
   ]
  },
  {
   "cell_type": "code",
   "execution_count": 167,
   "id": "768c0722",
   "metadata": {},
   "outputs": [],
   "source": [
    "def exp2(trials=100):\n",
    "    for i in range(trials):\n",
    "        print(f'{i})'.rjust(4, ' '), end='')\n",
    "        prompt = generate_exp2_prompt()\n",
    "        response = openai.ChatCompletion.create(\n",
    "            model=\"gpt-3.5-turbo\",\n",
    "            messages=[\n",
    "                {\"role\": \"user\", \n",
    "                 \"content\": prompt},\n",
    "            ]\n",
    "        )\n",
    "        answer = response.choices[0]['message']['content']\n",
    "        correct = is_correct(answer)\n",
    "        exp2_answers.append({'answer': answer,\n",
    "                            'correct': correct})\n",
    "        if correct:\n",
    "            print('correct')\n",
    "        else:\n",
    "            print('INCORRECT')"
   ]
  },
  {
   "cell_type": "code",
   "execution_count": 168,
   "id": "11dca990",
   "metadata": {},
   "outputs": [
    {
     "name": "stdout",
     "output_type": "stream",
     "text": [
      "Start: 2023-10-28 12:30:14.948679\n",
      "  0)correct\n",
      "  1)INCORRECT\n",
      "  2)correct\n",
      "  3)correct\n",
      "  4)correct\n",
      "  5)correct\n",
      "  6)correct\n",
      "  7)correct\n",
      "  8)correct\n",
      "  9)INCORRECT\n",
      " 10)correct\n",
      " 11)correct\n",
      " 12)correct\n",
      " 13)correct\n",
      " 14)correct\n",
      " 15)correct\n",
      " 16)correct\n",
      " 17)correct\n",
      " 18)correct\n",
      " 19)correct\n",
      " 20)correct\n",
      " 21)correct\n",
      " 22)correct\n",
      " 23)correct\n",
      " 24)correct\n",
      " 25)correct\n",
      " 26)correct\n",
      " 27)correct\n",
      " 28)correct\n",
      " 29)correct\n",
      " 30)correct\n",
      " 31)correct\n",
      " 32)correct\n",
      " 33)correct\n",
      " 34)correct\n",
      " 35)INCORRECT\n",
      " 36)correct\n",
      " 37)correct\n",
      " 38)correct\n",
      " 39)correct\n",
      " 40)INCORRECT\n",
      " 41)INCORRECT\n",
      " 42)INCORRECT\n",
      " 43)correct\n",
      " 44)correct\n",
      " 45)correct\n",
      " 46)correct\n",
      " 47)correct\n",
      " 48)correct\n",
      " 49)correct\n",
      " 50)INCORRECT\n",
      " 51)correct\n",
      " 52)correct\n",
      " 53)correct\n",
      " 54)correct\n",
      " 55)INCORRECT\n",
      " 56)correct\n",
      " 57)correct\n",
      " 58)correct\n",
      " 59)INCORRECT\n",
      " 60)correct\n",
      " 61)INCORRECT\n",
      " 62)correct\n",
      " 63)correct\n",
      " 64)INCORRECT\n",
      " 65)correct\n",
      " 66)correct\n",
      " 67)correct\n",
      " 68)correct\n",
      " 69)correct\n",
      " 70)correct\n",
      " 71)correct\n",
      " 72)correct\n",
      " 73)correct\n",
      " 74)correct\n",
      " 75)correct\n",
      " 76)INCORRECT\n",
      " 77)INCORRECT\n",
      " 78)correct\n",
      " 79)INCORRECT\n",
      " 80)correct\n",
      " 81)correct\n",
      " 82)correct\n",
      " 83)INCORRECT\n",
      " 84)INCORRECT\n",
      " 85)correct\n",
      " 86)correct\n",
      " 87)correct\n",
      " 88)correct\n",
      " 89)INCORRECT\n",
      " 90)correct\n",
      " 91)correct\n",
      " 92)correct\n",
      " 93)INCORRECT\n",
      " 94)correct\n",
      " 95)correct\n",
      " 96)correct\n",
      " 97)correct\n",
      " 98)INCORRECT\n",
      " 99)INCORRECT\n",
      "End: 2023-10-28 12:45:33.480539\n",
      "Elapsed: 0:15:18.531860\n"
     ]
    }
   ],
   "source": [
    "exp2_answers = []\n",
    "start = datetime.now()\n",
    "print(f'Start: {start}')\n",
    "exp2()\n",
    "end = datetime.now()\n",
    "print(f'End: {end}')\n",
    "elapsed = end - start\n",
    "print(f'Elapsed: {elapsed}')"
   ]
  },
  {
   "cell_type": "code",
   "execution_count": 169,
   "id": "d1597333",
   "metadata": {},
   "outputs": [
    {
     "data": {
      "text/plain": [
       "100"
      ]
     },
     "execution_count": 169,
     "metadata": {},
     "output_type": "execute_result"
    }
   ],
   "source": [
    "len(exp2_answers)"
   ]
  },
  {
   "cell_type": "code",
   "execution_count": 201,
   "id": "2ef6f3b1",
   "metadata": {},
   "outputs": [],
   "source": [
    "def output_exp2_results():\n",
    "    basedir = 'data/results/exp2'\n",
    "    os.makedirs(basedir, exist_ok=True)    \n",
    "    correct_counter = Counter([a['correct'] for a in exp2_answers])\n",
    "    accuracy = correct_counter[True] / (correct_counter[True] + correct_counter[False])\n",
    "    with open(f'{basedir}/exp2_master.txt', 'w') as file:\n",
    "        file.write(f'Accuracy: {accuracy}\\n')\n",
    "        file.write(f'Question: {question}\\n\\n')\n",
    "        file.write(f'Correct Answers:\\n===============\\n')\n",
    "        for answer in exp2_answers:\n",
    "            if answer['correct']:\n",
    "                file.write(answer['answer'])\n",
    "                file.write('\\n\\n')\n",
    "                \n",
    "        file.write(f'\\n\\n\\nIncorrect Answers:\\n===============\\n')\n",
    "        for answer in exp2_answers:\n",
    "            if not answer['correct']:\n",
    "                file.write(answer['answer'])\n",
    "                file.write('\\n\\n')\n",
    "                \n",
    "    with open(f'{basedir}/exp2_correct.jsonl', 'w') as file:\n",
    "        count = 0\n",
    "        for answer in exp2_answers:\n",
    "            if answer['correct']:\n",
    "                data = {'id': f'exp2_{count}',\n",
    "                        'question': question,\n",
    "                        'answer': answer['answer']\n",
    "                       }\n",
    "                file.write(json.dumps(data) + '\\n')\n",
    "                count += 1"
   ]
  },
  {
   "cell_type": "code",
   "execution_count": 202,
   "id": "7365bd91",
   "metadata": {},
   "outputs": [],
   "source": [
    "output_exp2_results()"
   ]
  },
  {
   "cell_type": "markdown",
   "id": "8577fb2d",
   "metadata": {},
   "source": [
    "## Experiment 3\n",
    "prompt with incorrect answers"
   ]
  },
  {
   "cell_type": "code",
   "execution_count": 175,
   "id": "3b9f982c",
   "metadata": {},
   "outputs": [],
   "source": [
    "incorrect_answers = [a['answer'] for a in updated_answers if not a['correct']]"
   ]
  },
  {
   "cell_type": "code",
   "execution_count": 176,
   "id": "ae2cd7fa",
   "metadata": {},
   "outputs": [
    {
     "data": {
      "text/plain": [
       "66"
      ]
     },
     "execution_count": 176,
     "metadata": {},
     "output_type": "execute_result"
    }
   ],
   "source": [
    "len(incorrect_answers)"
   ]
  },
  {
   "cell_type": "code",
   "execution_count": 177,
   "id": "71fa075f",
   "metadata": {},
   "outputs": [],
   "source": [
    "def generate_exp3_prompt(n=5):\n",
    "    preamble = \"\"\"Given a math problem, generate an answer with a rationale.\n",
    "    \n",
    "Examples:\n",
    "    \"\"\"\n",
    "    lines = []\n",
    "    lines.append(preamble)\n",
    "    examples = random.sample(incorrect_answers, n)\n",
    "    for example in examples:\n",
    "        lines.append(f'Question: {question}\\n')\n",
    "        lines.append(example)\n",
    "        lines.append('\\n')\n",
    "    lines.append(f'Question: {question}\\n')\n",
    "    return('\\n'.join(lines))"
   ]
  },
  {
   "cell_type": "code",
   "execution_count": 179,
   "id": "bacef146",
   "metadata": {},
   "outputs": [
    {
     "name": "stdout",
     "output_type": "stream",
     "text": [
      "Given a math problem, generate an answer with a rationale.\n",
      "    \n",
      "Examples:\n",
      "    \n",
      "Question: Josh decides to try flipping a house.  He buys a house for $80,000 and then puts in $50,000 in repairs.  This increased the value of the house by 150%.  How much profit did he make?\n",
      "\n",
      "The increase in value added 80,000*.15=$<<80000*.15=12000>>12,000 to its value\n",
      "So the house is worth 80,000+12,000=$<<80000+12000=92000>>92,000 after the repairs\n",
      "So he earned a profit of 92,000-80,000=$<<92000-80000=12000>>12,000. Answer: \\boxed{12000}.\n",
      "\n",
      "\n",
      "Question: Josh decides to try flipping a house.  He buys a house for $80,000 and then puts in $50,000 in repairs.  This increased the value of the house by 150%.  How much profit did he make?\n",
      "\n",
      "The increase in price was 80,000*.15=$<<80000*.15=12000>>12,000\n",
      "So the house is worth 80,000+12,000=$<<80000+12000=92000>>92,000\n",
      "So he made a profit of 92,000-80,000=$<<92000-80000=12000>>12,000. Answer: \\boxed{12,000}.\n",
      "\n",
      "\n",
      "Question: Josh decides to try flipping a house.  He buys a house for $80,000 and then puts in $50,000 in repairs.  This increased the value of the house by 150%.  How much profit did he make?\n",
      "\n",
      "He increased the value by 80000*.015=$<<80000*.015=1200>>1200\n",
      "So the value is now 1200+80000=$<<1200+80000=81200>>81200\n",
      "That means the increase in value was 81200*1.5=$<<81200*1.5=121800>>121800\n",
      "So his profit was 121800-80000-50000=$<<121800-80000-50000=91800>>91800. Answer: \\boxed{91800}.\n",
      "\n",
      "\n",
      "Question: Josh decides to try flipping a house.  He buys a house for $80,000 and then puts in $50,000 in repairs.  This increased the value of the house by 150%.  How much profit did he make?\n",
      "\n",
      "The house's value increased by 80,000*.01=$<<80000*.01=800>>800\n",
      "So the total after repaired value of the house is 80,000+800=<<80000+800=80800>>80,800\n",
      "So the increase in value due to repairs is 80,800-80,000=$<<80800-80000=800>>800\n",
      "So the house is worth 800*150%=$<<800*150*.01=1200>>1200\n",
      "So the value of the house is now 80800+12000=$<<80800+12000=92800>>92,800\n",
      "That means his profit was 92,800-80,000-50,000=$<<92800-80000-50000=12800>>12,800. Answer: \\boxed{12800}.\n",
      "\n",
      "\n",
      "Question: Josh decides to try flipping a house.  He buys a house for $80,000 and then puts in $50,000 in repairs.  This increased the value of the house by 150%.  How much profit did he make?\n",
      "\n",
      "First add 150% to the original cost to find how much the value increased: $80,000 * 150% = $<<80000*150*.01=120000>>120,000\n",
      "Now subtract the cost of the repairs to find the value of the house after the repairs: $120,000 - $50,000 = $<<120000-50000=70000>>70,000\n",
      "Now subtract the initial cost and the cost of the repairs to find Josh's profit: $70,000 - $50,000 - $80,000 = $<<70000-50000-80000=-60000>>-60,000\n",
      "Since the number is negative, Josh actually lost $60,000 on the house. Answer: \\boxed{60000}.\n",
      "\n",
      "\n",
      "Question: Josh decides to try flipping a house.  He buys a house for $80,000 and then puts in $50,000 in repairs.  This increased the value of the house by 150%.  How much profit did he make?\n",
      "\n"
     ]
    }
   ],
   "source": [
    "print(generate_exp3_prompt())"
   ]
  },
  {
   "cell_type": "code",
   "execution_count": 181,
   "id": "c852e88c",
   "metadata": {},
   "outputs": [],
   "source": [
    "def exp3(trials=100):\n",
    "    for i in range(trials):\n",
    "        print(f'{i})'.rjust(4, ' '), end='')\n",
    "        prompt = generate_exp3_prompt()\n",
    "        response = openai.ChatCompletion.create(\n",
    "            model=\"gpt-3.5-turbo\",\n",
    "            messages=[\n",
    "                {\"role\": \"user\", \n",
    "                 \"content\": prompt},\n",
    "            ]\n",
    "        )\n",
    "        answer = response.choices[0]['message']['content']\n",
    "        correct = is_correct(answer)\n",
    "        exp3_answers.append({'answer': answer,\n",
    "                            'correct': correct})\n",
    "        if correct:\n",
    "            print('correct')\n",
    "        else:\n",
    "            print('INCORRECT')"
   ]
  },
  {
   "cell_type": "code",
   "execution_count": 182,
   "id": "4004aaa6",
   "metadata": {},
   "outputs": [
    {
     "name": "stdout",
     "output_type": "stream",
     "text": [
      "Start: 2023-10-28 16:36:39.978297\n",
      "  0)correct\n",
      "  1)correct\n",
      "  2)INCORRECT\n",
      "  3)INCORRECT\n",
      "  4)INCORRECT\n",
      "  5)correct\n",
      "  6)correct\n",
      "  7)INCORRECT\n",
      "  8)INCORRECT\n",
      "  9)INCORRECT\n",
      " 10)INCORRECT\n",
      " 11)correct\n",
      " 12)correct\n",
      " 13)correct\n",
      " 14)correct\n",
      " 15)correct\n",
      " 16)INCORRECT\n",
      " 17)correct\n",
      " 18)INCORRECT\n",
      " 19)correct\n",
      " 20)correct\n",
      " 21)INCORRECT\n",
      " 22)correct\n",
      " 23)correct\n",
      " 24)INCORRECT\n",
      " 25)correct\n",
      " 26)correct\n",
      " 27)INCORRECT\n",
      " 28)correct\n",
      " 29)INCORRECT\n",
      " 30)INCORRECT\n",
      " 31)correct\n",
      " 32)correct\n",
      " 33)correct\n",
      " 34)INCORRECT\n",
      " 35)INCORRECT\n",
      " 36)INCORRECT\n",
      " 37)INCORRECT\n",
      " 38)correct\n",
      " 39)INCORRECT\n",
      " 40)INCORRECT\n",
      " 41)INCORRECT\n",
      " 42)INCORRECT\n",
      " 43)INCORRECT\n",
      " 44)correct\n",
      " 45)correct\n",
      " 46)INCORRECT\n",
      " 47)INCORRECT\n",
      " 48)correct\n",
      " 49)INCORRECT\n",
      " 50)INCORRECT\n",
      " 51)INCORRECT\n",
      " 52)correct\n",
      " 53)correct\n",
      " 54)INCORRECT\n",
      " 55)correct\n",
      " 56)correct\n",
      " 57)INCORRECT\n",
      " 58)INCORRECT\n",
      " 59)INCORRECT\n",
      " 60)correct\n",
      " 61)INCORRECT\n",
      " 62)INCORRECT\n",
      " 63)INCORRECT\n",
      " 64)INCORRECT\n",
      " 65)INCORRECT\n",
      " 66)INCORRECT\n",
      " 67)INCORRECT\n",
      " 68)correct\n",
      " 69)correct\n",
      " 70)INCORRECT\n",
      " 71)correct\n",
      " 72)INCORRECT\n",
      " 73)INCORRECT\n",
      " 74)INCORRECT\n",
      " 75)INCORRECT\n",
      " 76)INCORRECT\n",
      " 77)INCORRECT\n",
      " 78)INCORRECT\n",
      " 79)INCORRECT\n",
      " 80)correct\n",
      " 81)INCORRECT\n",
      " 82)INCORRECT\n",
      " 83)correct\n",
      " 84)INCORRECT\n",
      " 85)INCORRECT\n",
      " 86)INCORRECT\n",
      " 87)INCORRECT\n",
      " 88)INCORRECT\n",
      " 89)INCORRECT\n",
      " 90)correct\n",
      " 91)INCORRECT\n",
      " 92)correct\n",
      " 93)correct\n",
      " 94)INCORRECT\n",
      " 95)INCORRECT\n",
      " 96)correct\n",
      " 97)INCORRECT\n",
      " 98)correct\n",
      " 99)INCORRECT\n",
      "End: 2023-10-28 16:50:27.720670\n",
      "Elapsed: 0:13:47.742373\n"
     ]
    }
   ],
   "source": [
    "exp3_answers = []\n",
    "start = datetime.now()\n",
    "print(f'Start: {start}')\n",
    "exp3()\n",
    "end = datetime.now()\n",
    "print(f'End: {end}')\n",
    "elapsed = end - start\n",
    "print(f'Elapsed: {elapsed}')"
   ]
  },
  {
   "cell_type": "code",
   "execution_count": 183,
   "id": "b512d5f7",
   "metadata": {},
   "outputs": [
    {
     "data": {
      "text/plain": [
       "100"
      ]
     },
     "execution_count": 183,
     "metadata": {},
     "output_type": "execute_result"
    }
   ],
   "source": [
    "len(exp3_answers)"
   ]
  },
  {
   "cell_type": "code",
   "execution_count": 188,
   "id": "db512843",
   "metadata": {},
   "outputs": [],
   "source": [
    "def output_exp3_results():\n",
    "    basedir = 'data/results/exp3'\n",
    "    os.makedirs(basedir, exist_ok=True)    \n",
    "    correct_counter = Counter([a['correct'] for a in exp3_answers])\n",
    "    accuracy = correct_counter[True] / (correct_counter[True] + correct_counter[False])\n",
    "    with open(f'{basedir}/exp3_master.txt', 'w') as file:\n",
    "        file.write(f'Accuracy: {accuracy}\\n')\n",
    "        file.write(f'Question: {question}\\n\\n')\n",
    "        file.write(f'Correct Answers:\\n===============\\n')\n",
    "        for answer in exp3_answers:\n",
    "            if answer['correct']:\n",
    "                file.write(answer['answer'])\n",
    "                file.write('\\n\\n')\n",
    "                \n",
    "        file.write(f'\\n\\n\\nIncorrect Answers:\\n===============\\n')\n",
    "        for answer in exp3_answers:\n",
    "            if not answer['correct']:\n",
    "                file.write(answer['answer'])\n",
    "                file.write('\\n\\n')"
   ]
  },
  {
   "cell_type": "code",
   "execution_count": 189,
   "id": "57ff27b2",
   "metadata": {},
   "outputs": [],
   "source": [
    "output_exp3_results()"
   ]
  },
  {
   "cell_type": "code",
   "execution_count": null,
   "id": "3eb7d7f6",
   "metadata": {},
   "outputs": [],
   "source": []
  }
 ],
 "metadata": {
  "kernelspec": {
   "display_name": "Python (nlu)",
   "language": "python",
   "name": "nlu"
  },
  "language_info": {
   "codemirror_mode": {
    "name": "ipython",
    "version": 3
   },
   "file_extension": ".py",
   "mimetype": "text/x-python",
   "name": "python",
   "nbconvert_exporter": "python",
   "pygments_lexer": "ipython3",
   "version": "3.9.18"
  }
 },
 "nbformat": 4,
 "nbformat_minor": 5
}
