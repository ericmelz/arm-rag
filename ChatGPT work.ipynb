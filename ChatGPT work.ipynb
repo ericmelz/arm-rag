{
 "cells": [
  {
   "cell_type": "code",
   "execution_count": 1,
   "id": "07a0d85c",
   "metadata": {},
   "outputs": [],
   "source": [
    "import openai"
   ]
  },
  {
   "cell_type": "code",
   "execution_count": 2,
   "id": "44834fc0",
   "metadata": {},
   "outputs": [
    {
     "name": "stdout",
     "output_type": "stream",
     "text": [
      "FOUND\n"
     ]
    }
   ],
   "source": [
    "f = open('/Users/ericmelz/Documents/code/openai-quickstart-python-emelz/.env', 'r')\n",
    "\n",
    "KEY='OPENAI_API_KEY'\n",
    "l=f.readline()\n",
    "api_key = 'undefined!'\n",
    "while l:\n",
    "    if l.startswith(KEY):\n",
    "        print('FOUND')\n",
    "        api_key = l[len(KEY)+1:-1]\n",
    "        break\n",
    "    l = f.readline()\n",
    "\n",
    "f.close()\n",
    "\n",
    "openai.api_key=api_key"
   ]
  },
  {
   "cell_type": "code",
   "execution_count": 3,
   "id": "f114a036",
   "metadata": {},
   "outputs": [],
   "source": [
    "response = openai.ChatCompletion.create(\n",
    "    model=\"gpt-3.5-turbo\",\n",
    "    messages=[\n",
    "        {\"role\": \"user\", \"content\": \"Josh decides to try flipping a house.  He buys a house for $80,000 and then puts in $50,000 in repairs.  This increased the value of the house by 150%.  How much profit did he make?\"},\n",
    "    ]\n",
    ")"
   ]
  },
  {
   "cell_type": "code",
   "execution_count": 4,
   "id": "19296483",
   "metadata": {},
   "outputs": [
    {
     "data": {
      "text/plain": [
       "<OpenAIObject chat.completion id=chatcmpl-8DMzuOHtMtyVc50GRfdKP5nWr8KTb at 0x10423a900> JSON: {\n",
       "  \"id\": \"chatcmpl-8DMzuOHtMtyVc50GRfdKP5nWr8KTb\",\n",
       "  \"object\": \"chat.completion\",\n",
       "  \"created\": 1698197358,\n",
       "  \"model\": \"gpt-3.5-turbo-0613\",\n",
       "  \"choices\": [\n",
       "    {\n",
       "      \"index\": 0,\n",
       "      \"message\": {\n",
       "        \"role\": \"assistant\",\n",
       "        \"content\": \"The value of the house increased by 150%, so this means there was an increase of 150/100 = $<<150/100*80000=120000>>120,000\\nSo the total value of the house was 80,000+50,000 = $<<80000+50000=130000>>130,000\\nThis means the value of the house increased to 130,000+120,000 = $<<130000+120000=250000>>250,000\\nHis profit was 250,000-130,000 = $<<250000-130000=120000>>120,000. Answer: \\\\boxed{120000}.\"\n",
       "      },\n",
       "      \"finish_reason\": \"stop\"\n",
       "    }\n",
       "  ],\n",
       "  \"usage\": {\n",
       "    \"prompt_tokens\": 56,\n",
       "    \"completion_tokens\": 139,\n",
       "    \"total_tokens\": 195\n",
       "  }\n",
       "}"
      ]
     },
     "execution_count": 4,
     "metadata": {},
     "output_type": "execute_result"
    }
   ],
   "source": [
    "response"
   ]
  },
  {
   "cell_type": "code",
   "execution_count": 5,
   "id": "50bd42b4",
   "metadata": {},
   "outputs": [],
   "source": [
    "response = openai.ChatCompletion.create(\n",
    "    model=\"gpt-3.5-turbo\",\n",
    "    messages=[\n",
    "        {\"role\": \"user\", \"content\": \"Josh decides to try flipping a house.  He buys a house for $80,000 and then puts in $50,000 in repairs.  This increased the value of the house by 150%.  How much profit did he make?\"},\n",
    "    ]\n",
    ")"
   ]
  },
  {
   "cell_type": "code",
   "execution_count": 6,
   "id": "a7f9c57d",
   "metadata": {},
   "outputs": [
    {
     "data": {
      "text/plain": [
       "<OpenAIObject chat.completion id=chatcmpl-8DN5fj2F09odoZiSv1qnKS1PqM9Nq at 0x10423a220> JSON: {\n",
       "  \"id\": \"chatcmpl-8DN5fj2F09odoZiSv1qnKS1PqM9Nq\",\n",
       "  \"object\": \"chat.completion\",\n",
       "  \"created\": 1698197715,\n",
       "  \"model\": \"gpt-3.5-turbo-0613\",\n",
       "  \"choices\": [\n",
       "    {\n",
       "      \"index\": 0,\n",
       "      \"message\": {\n",
       "        \"role\": \"assistant\",\n",
       "        \"content\": \"The increase in value was 80000*1.5=$<<80000*1.5=120000>>120,000\\nSo the house is now worth 120000+80000=$<<120000+80000=200000>>200,000\\nSo he made a profit of 200000-80000-50000=$<<200000-80000-50000=70000>>70,000. Answer: \\\\boxed{70000}.\"\n",
       "      },\n",
       "      \"finish_reason\": \"stop\"\n",
       "    }\n",
       "  ],\n",
       "  \"usage\": {\n",
       "    \"prompt_tokens\": 56,\n",
       "    \"completion_tokens\": 96,\n",
       "    \"total_tokens\": 152\n",
       "  }\n",
       "}"
      ]
     },
     "execution_count": 6,
     "metadata": {},
     "output_type": "execute_result"
    }
   ],
   "source": [
    "response"
   ]
  },
  {
   "cell_type": "code",
   "execution_count": null,
   "id": "d2a1d621",
   "metadata": {},
   "outputs": [],
   "source": []
  }
 ],
 "metadata": {
  "kernelspec": {
   "display_name": "Python (nlu)",
   "language": "python",
   "name": "nlu"
  },
  "language_info": {
   "codemirror_mode": {
    "name": "ipython",
    "version": 3
   },
   "file_extension": ".py",
   "mimetype": "text/x-python",
   "name": "python",
   "nbconvert_exporter": "python",
   "pygments_lexer": "ipython3",
   "version": "3.9.18"
  }
 },
 "nbformat": 4,
 "nbformat_minor": 5
}
