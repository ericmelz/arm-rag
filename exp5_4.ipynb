{
 "cells": [
  {
   "cell_type": "code",
   "execution_count": 1,
   "id": "aa3241b9",
   "metadata": {},
   "outputs": [],
   "source": [
    "%load_ext autoreload\n",
    "%autoreload 2"
   ]
  },
  {
   "cell_type": "code",
   "execution_count": 2,
   "id": "bedfffba",
   "metadata": {},
   "outputs": [],
   "source": [
    "import openai\n",
    "import util"
   ]
  },
  {
   "cell_type": "code",
   "execution_count": 3,
   "id": "763d13bf",
   "metadata": {},
   "outputs": [
    {
     "name": "stdout",
     "output_type": "stream",
     "text": [
      "FOUND\n"
     ]
    }
   ],
   "source": [
    "f = open('/Users/ericmelz/Documents/code/openai-quickstart-python-emelz/.env', 'r')\n",
    "\n",
    "KEY='OPENAI_API_KEY'\n",
    "l=f.readline()\n",
    "api_key = 'undefined!'\n",
    "while l:\n",
    "    if l.startswith(KEY):\n",
    "        print('FOUND')\n",
    "        api_key = l[len(KEY)+1:-1]\n",
    "        break\n",
    "    l = f.readline()\n",
    "\n",
    "f.close()\n",
    "\n",
    "openai.api_key=api_key"
   ]
  },
  {
   "cell_type": "code",
   "execution_count": 4,
   "id": "45c8c80d",
   "metadata": {},
   "outputs": [],
   "source": [
    "batch_size = 100\n",
    "batches_per_instance = 10\n",
    "n = 5"
   ]
  },
  {
   "cell_type": "code",
   "execution_count": 7,
   "id": "7cadb676",
   "metadata": {},
   "outputs": [],
   "source": [
    "instance_num = 4\n",
    "offset = 100"
   ]
  },
  {
   "cell_type": "code",
   "execution_count": null,
   "id": "f159a27f",
   "metadata": {},
   "outputs": [
    {
     "name": "stdout",
     "output_type": "stream",
     "text": [
      "Processing batch=0.  start=4100, end=4200\n"
     ]
    },
    {
     "name": "stderr",
     "output_type": "stream",
     "text": [
      "Found cached dataset json (/Users/ericmelz/.cache/huggingface/datasets/json/default-7e9c6d6cd1599295/0.0.0/0f7e3662623656454fcd2b650f34e886a7db4b9104504885bd462096cc7a9f51)\n"
     ]
    },
    {
     "name": "stdout",
     "output_type": "stream",
     "text": [
      "Q4100: A 26-mile circular marathon has four checkpoints inside it. The first is one mile from the start line, and the last checkpoint is one mile from the finish line. The checkpoints have equal spacing between them. How many miles apart are each of the consecutive checkpoints between the start-finish line?\n",
      "Q4101: Buffy has a sailboat with a planing hull that she sails in the Gulf of Mexico.  Under optimal wind conditions, the use of two sails brings the ship to the speed of 50 knots, whereas under the same conditions, the use of one sail brings her ship to the speed of 25 knots.  A knot is a nautical term for speed equal to 1 nautical mile per hour, and one nautical mile equals 1.15 land miles.  If she travels in her sailboat under optimal wind conditions for 4 hours with one sail and then for another 4 hours with two sails, what is the total distance, in land miles, that she will travel?\n",
      "Q4102: You can lower the price by 20% if you buy more than fifteen units of iPhone cases. If you pay $500 to buy 18 units, what is the original price?\n",
      "Q4103: Abraham is buying some toiletries and creates a budget of $60 for his shopping. He buys 4 shower gels for $4 each, a tube of toothpaste for $3, and a box of laundry detergent. If he has $30 remaining in his budget, how much money, in dollars, did Abraham spend on the box of laundry detergent?\n",
      "Q4104: Annie goes to school. Today is her birthday, so Annie decided to buy some sweets for her colleagues. Every classmate got 2 candies. In the end, Annie got left with 12 candies. If there are 35 people in Annie's class in total, how much did Annie spend on candies, if one candy costs $0.1?\n",
      "Q4105: Andrew eats 14 donuts on Monday, and half as many on Tuesday. On Wednesday Andrew eats 4 times as many as he did on Monday.  How many donuts did Andrew eat total in the three days?\n",
      "Q4106: Solomon collected three times as many cans as Juwan. Levi collected half of what Juwan collected. Solomon collected 66 cans. How many cans did the boys collect in all?\n",
      "Q4107: Kimiko watches four YouTube videos. The first video is 2 minutes long, the second video is 4 minutes and 30 seconds, and the last two videos are equal in length. If she spends a total of 510 seconds watching YouTube, how many seconds long was each of the last two videos?\n",
      "Q4108: Justin wanted to watch a movie that came on at 8 pm that night.  His parents agreed as long as he finished his homework and chores before the movie started.  He wouldn't be home until 5 pm because of baseball practice.  He knew dinner would take 45 minutes, and he figured his homework would take 30 minutes to finish.  He needed to clean his room, which would take 30 minutes; then take out the trash, which would take about 5 minutes; and empty the dishwasher,  which would take another 10 minutes.  What was the latest time that Justin could start his chores and homework to be done by 8 pm to watch his movie?\n",
      "Q4109: Kristine traveled to Paris in France to visit her friend. On the way, she has driven a train for 300 km and a bus for half that distance. After arriving in the city, she had to take a cab and drove three times fewer kilometers than she rode the bus. How many kilometers in total had Kristine traveled to reach her destination?\n",
      "Q4110: Michael buys his suit for $430 and shoes for $190. So, if he gets a $100 discount, what was the amount that he paid to the seller?\n",
      "Q4111: Ali has a store that sells fruits and vegetables. He puts 23 kg of kidney apples, 37 kg of golden apples and 14 kg of Canada apples on the shelves. By noon, 36 kg of apples were sold. What is the mass of apples that he has left?\n",
      "Q4112: A farmer gets 20 pounds of bacon on average from a pig. He sells each pound for $6 at the monthly farmer’s market. This month’s pig is a runt that grew to only half the size of the average pig. How many dollars will the farmer make from the pig’s bacon?\n",
      "Q4113: Nicholas bought six times as much fabric as Kenneth. If Kenneth paid $40 for an oz of fabric and bought 700oz, calculate the amount of money that Nicholas paid more than Kenneth for the fabric he bought.\n",
      "Q4114: Kristin can run three times faster than Sarith. If Kristin runs 12 times around the adult football field and Sarith runs at the same time around the children's football field that is half the distance as the other field, how many laps did Sarith go around the children's football field?\n",
      "Q4115: Linda was going to pass out homemade cookies to each of her 24 classmates on the last day of school.  She wanted to give each student 10 cookies and wanted to make chocolate chip cookies and oatmeal raisin cookies.  Each cookie recipe made exactly 4 dozen cookies.  She was able to make 2 batches of chocolate chip cookies before running out of chocolate chips.  She made 1 batch of oatmeal raisin cookies.  How many more batches of cookies does Linda need to bake?\n",
      "Q4116: Pierre decides to bring his mother out for ice cream. His treat. Each scoop is $2. If he gets 3 scoops and his mom gets 4, what is the total bill?\n",
      "Q4117: Ahmed is 11 years old and Fouad is 26 years old. In how many years will Fouad's age be double Ahmed's current age?\n",
      "Q4118: Jessica is making an apple pie. She knows that each serving requires 1.5 apples and she has 12 quests. She plans to make 3 pies, which each contain 8 servings. If her guests finish all the pie, on average , how many apples does each guest eat?\n",
      "Q4119: Grant has worked as a freelance math worker for the last three months.  The first month he made 350$.  The second month he made 50$ more than double he made the first month.  The third month he quadrupled the sum of the first two months.  How much did Grant make in his first three months total?\n",
      "Q4120: Bridget counted 14 shooting stars in the night sky.  Reginald counted two fewer shooting stars than did Bridget, but Sam counted four more shooting stars than did Reginald.  How many more shooting stars did Sam count in the night sky than was the average number of shooting stars observed for the three of them?\n",
      "Q4121: Jackson is making pancakes with three ingredients: flour, milk and eggs. 20% of the bottles of milk are spoiled and the rest are fresh. 60% of the eggs are rotten. 1/4 of the cannisters of flour have weevils in them. If Jackson picks a bottle of milk, an egg and a canister of flour at random, what are the odds all three ingredients will be good?\n"
     ]
    }
   ],
   "source": [
    "util.process_batch(instance_num=instance_num,\n",
    "             batch_size=batch_size,\n",
    "             offset=offset,\n",
    "             batches_per_instance=batches_per_instance,\n",
    "             n=n,\n",
    "             exp='exp5')"
   ]
  },
  {
   "cell_type": "code",
   "execution_count": null,
   "id": "611c2b89",
   "metadata": {},
   "outputs": [],
   "source": []
  }
 ],
 "metadata": {
  "kernelspec": {
   "display_name": "Python (nlu)",
   "language": "python",
   "name": "nlu"
  },
  "language_info": {
   "codemirror_mode": {
    "name": "ipython",
    "version": 3
   },
   "file_extension": ".py",
   "mimetype": "text/x-python",
   "name": "python",
   "nbconvert_exporter": "python",
   "pygments_lexer": "ipython3",
   "version": "3.9.18"
  }
 },
 "nbformat": 4,
 "nbformat_minor": 5
}
