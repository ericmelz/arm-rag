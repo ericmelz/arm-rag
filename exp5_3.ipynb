{
 "cells": [
  {
   "cell_type": "code",
   "execution_count": 1,
   "id": "aa3241b9",
   "metadata": {},
   "outputs": [],
   "source": [
    "%load_ext autoreload\n",
    "%autoreload 2"
   ]
  },
  {
   "cell_type": "code",
   "execution_count": 2,
   "id": "bedfffba",
   "metadata": {},
   "outputs": [],
   "source": [
    "import openai\n",
    "import util"
   ]
  },
  {
   "cell_type": "code",
   "execution_count": 3,
   "id": "763d13bf",
   "metadata": {},
   "outputs": [
    {
     "name": "stdout",
     "output_type": "stream",
     "text": [
      "FOUND\n"
     ]
    }
   ],
   "source": [
    "f = open('/Users/ericmelz/Documents/code/openai-quickstart-python-emelz/.env', 'r')\n",
    "\n",
    "KEY='OPENAI_API_KEY'\n",
    "l=f.readline()\n",
    "api_key = 'undefined!'\n",
    "while l:\n",
    "    if l.startswith(KEY):\n",
    "        print('FOUND')\n",
    "        api_key = l[len(KEY)+1:-1]\n",
    "        break\n",
    "    l = f.readline()\n",
    "\n",
    "f.close()\n",
    "\n",
    "openai.api_key=api_key"
   ]
  },
  {
   "cell_type": "code",
   "execution_count": 4,
   "id": "45c8c80d",
   "metadata": {},
   "outputs": [],
   "source": [
    "batch_size = 100\n",
    "batches_per_instance = 10\n",
    "n = 5"
   ]
  },
  {
   "cell_type": "code",
   "execution_count": 5,
   "id": "7cadb676",
   "metadata": {},
   "outputs": [],
   "source": [
    "instance_num = 3\n",
    "offset = 0"
   ]
  },
  {
   "cell_type": "code",
   "execution_count": null,
   "id": "f159a27f",
   "metadata": {},
   "outputs": [
    {
     "name": "stdout",
     "output_type": "stream",
     "text": [
      "Processing batch=0.  start=3000, end=3100\n"
     ]
    },
    {
     "name": "stderr",
     "output_type": "stream",
     "text": [
      "Found cached dataset json (/Users/ericmelz/.cache/huggingface/datasets/json/default-7e9c6d6cd1599295/0.0.0/0f7e3662623656454fcd2b650f34e886a7db4b9104504885bd462096cc7a9f51)\n"
     ]
    },
    {
     "name": "stdout",
     "output_type": "stream",
     "text": [
      "Q3000: A pole is 20 meters long. It got cut in a way that left it 30% shorter. How long is the pole?\n",
      "Q3001: Jamie is in a walking group with 4 other ladies.  The ladies all walk 3 miles together.  On top of that, Jamie walks an additional 2 miles per day for 6 days while her friend Sue walks half that amount in 6 days.  If they walk this same route 6 days a week, how many miles do the ladies walk in total?\n",
      "Q3002: Brenda volunteered to make 3 trays of banana pudding for the family reunion.  Each tray of banana pudding would need 80 wafer cookies.  A box of wafer cookies only had 60 cookies per box.  Each box costs $3.50.  How much will it cost her to buy just enough boxes for 3 trays of banana pudding?\n",
      "Q3003: In mid-May, the depth of a river in Moreland is measured. By mid-June, the river is 10 feet deeper than mid-May. By mid-July, the river is three times deeper than mid-June. If the river is 45 feet deep in mid-July, how many feet deep was the river in mid-May?\n",
      "Q3004: Bill is trying to decide whether to make blueberry muffins or raspberry muffins. Blueberries cost $5.00 per 6 ounce carton and raspberries cost $3.00 per 8 ounce carton. If Bill is going to make 4 batches of muffins, and each batch takes 12 ounces of fruit, how much money would he save by using raspberries instead of blueberries?\n",
      "Q3005: Aitana and Jayda went to Silverlake Flea market to buy some handmade crafts. Aitana spent 2/5 times more money than Jayda at the market. If Jayda spent $400, calculate the total amount of money they spent together.\n",
      "Q3006: Gretchen's local ice cream shop offers 100 different flavors.  She was able to try a 1/4 of the flavors 2 years ago and double that amount last year.  How many more flavors will she need to try this year to have tried all 100 flavors?\n",
      "Q3007: Emily went to the store and bought art supplies for $20 and 2 skirts that cost the same amount of money. She spent a total of $50. How much did Emily pay for each of the skirts?\n",
      "Q3008: A snake's head is one-tenth its length. If a snake is 10 feet long, calculate the length of the rest of its body minus the head.\n",
      "Q3009: The country of Belize had a 5 lane bridge that had 2000 vehicles passing through it every month. They decided to build a new bridge that had twice the capacity of the old one, and the number of vehicles passing through the new one increased by 60% more than the old bridge. If the bridges work concurrently for a year, calculate the total number of vehicles that pass through the two bridges.\n",
      "Q3010: Jon's laundry machine can do 5 pounds of laundry at a time.  4 shirts weigh 1 pound and 2 pairs of pants weigh 1 pound.  If he needs to wash 20 shirts and 20 pants, how many loads of laundry does he have to do?\n",
      "Q3011: Thomas is training at the gym to prepare for a competition. He trained for 5 hours every day for a month (30 days). If he continues to train for the next 12 days, how many hours will he spend on training in total?\n",
      "Q3012: Amber is baking cakes for her party. She has invited 8 friends and each one will want two slices of cake. Each cake makes 6 slices. If she bakes 4 cakes, how many slices will be left over at the end if she eats three herself?\n",
      "Q3013: John is lifting weights. He bench presses 15 pounds for 10 reps and does 3 sets. How much total weight does he move?\n",
      "Q3014: Travis is hired to take 638 bowls from the factory to the home goods store. The home goods store will pay the moving company a $100 fee, plus $3 for every bowl that is delivered safely. Travis must pay the home goods store $4 each for any bowls that are lost or broken. If 12 bowls are lost, 15 bowls are broken, and the rest are delivered safely, how much should Travis be paid?\n",
      "Q3015: Sam has 19 dimes and 6 quarters. She buys 4 candy bars for 3 dimes each and 1 lollipop for 1 quarter. How much money, in cents, does she have left?\n",
      "Q3016: Gary is buying chlorine for his rectangular pool, which is 10 feet long, 8 feet wide, and 6 feet deep. Gary needs to buy one quart of chlorine for every 120 cubic feet of water in his pool. If chlorine costs $3 a quart, how much does Gary spend on chlorine?\n",
      "Q3017: Mandy is 3 years old. Her brother is 4 times as old as she is. Her sister is 5 years younger than her brother.  What is the age difference between Mandy and her sister?\n",
      "Q3018: Kara has to drink 4 ounces of water every time she takes her medication. Her medication instructions are to take one tablet three times a day. She followed the instructions for one week, but in the second week, she forgot twice on one day. How many ounces of water did she drink with her medication over those two weeks?\n",
      "Q3019: Janelle had 26 green marbles. Then she bought 6 bags of blue marbles. There were 10 marbles in each bag.  She created a gift of 6 green marbles and 8 blue marbles and gave it to a friend. How many marbles does Janelle have now?\n",
      "Q3020: Erica lives near a lake where most locals sell fish as their main source of income, earning $20 per kg of fish. She goes out fishing today and catches twice as many fish as she caught in total in the past four months. If Erica trawled 80 kg of fish in the past four months, not including today, how much money will she have earned in the past four months including today (assuming she sells all her fish)?\n",
      "Q3021: Jessica wrote a long letter to her aunt and needed to put stamps on it to mail it. She used eight pieces of paper that weigh 1/5 of an ounce each, and her envelope weighs 2/5 of an ounce. She needed one stamp per ounce. How many stamps did Jessica need to mail her letter?\n",
      "Q3022: Tommy's home is worth 25% more than he bought it for. He sells it and buys a new house that costs $500,000. If he had to take a loan for the 75% he can't pay, how much did he buy his first house for?\n",
      "Q3023: Lola and Dora combined their allowance of $9 each to buy a deck of playing cards for $10, they also bought $2 boxes of stickers and split the boxes evenly. How many packs of stickers did Dora get?\n",
      "Q3024: The weights of Christine's two cats are 7 and 10 pounds. What is her dog's weight if its weight is twice the sum of her two cats' weights?\n",
      "Q3025: A store transports fresh vegetables in crates and cartons using its delivery truck. One crate of vegetables weighs 4 kilograms and one carton 3 kilograms. How much will a load of 12 crates, and 16 cartons of vegetables weigh?\n",
      "Q3026: Carla has 6 sunflowers and 8 dandelions. The sunflowers have 9 seeds per plant and the dandelions have 12 seeds per plant. What percentage of Carla's seeds come from the dandelions?\n",
      "Q3027: Mary has a mystery book library. She started with 72 mystery books at the beginning of the year. She joined a book club that sent her 1 book each month of the year. She went to a bookstore halfway through the year and bought 5 more books, then bought 2 books at yard sales later. Her daughter gave her another book for her birthday, and her mother gave her a series of 4 books when Mary visited her. She donated 12 books she didn't want to read again to a charity shop and sold 3 to a used book store. How many books did she have at the end of the year?\n",
      "Q3028: There are 20 sandcastles on Mark's beach, each with 10 towers. On Jeff's beach, there are three times as many castles as on Mark's beach, each with 5 towers. What is the combined total number of sandcastles and towers on Mark's and Jeff's beaches?\n",
      "Q3029: Mr. Roper cuts his lawn 15 days a month beginning in April and ending in September.  From October to the end of March he cuts his lawn three times a month.  What is the average number of times that Mr. Roper cuts his yard per month?\n",
      "Q3030: Together 3 friends watched 411 short videos. Kelsey watched 43 more than Ekon. Ekon watched 17 less than Uma. How many videos did Kelsey watch?\n",
      "Q3031: Tall Tuna has twice as many fish as Jerk Tuna. If Jerk Tuna has one hundred forty-four fish, how many fish do they have together?\n",
      "Q3032: Tedra is harvesting his tomatoes. He harvests 400 kg on Wednesday, and half as much on Thursday. He harvests a total of 2000 kg on Wednesday, Thursday, and Friday. How many tomatoes of the number he harvested on Friday are remaining if he gives away 700kg of them to his friends?\n",
      "Q3033: The tornado picked up the Smith's car and transported it 200 feet in the air before dropping it into the neighbors' pool.  Also in the pool was a lawn chair that had been blown twice as far as the car had been transported.  And the pool also contained a birdhouse that had flown through the air three times farther than the lawn chair had been blown.  How far, in feet, far had the birdhouse flown?\n"
     ]
    },
    {
     "name": "stdout",
     "output_type": "stream",
     "text": [
      "Q3034: In the school election, Eliot got twice as many votes as Shaun, and Shaun got 5 times as many votes as Randy. If Randy got 16 votes, how many did Eliot get?\n",
      "Q3035: Linda makes $10.00 an hour babysitting.  There is a $25.00 application fee for each college application she submits.  If she is applying to 6 colleges, how many hours will she need to babysit to cover the application fees?\n",
      "Q3036: A yearly book sale is held in school where students can sell their old books at a cheaper price. Two-fifths of Lovely's books can be sold for $2.50 each and the rest for $2 each. How much will Lovely earn if all 10 books were sold?\n",
      "Q3037: After a visit to the newly opened aquarium, 40 percent of the aquarium visitors fell ill from a mysterious disease. If there were 500 visitors, how many of them did not fall ill?\n",
      "Q3038: During the most recent voyage of the Starship Conundrum, the spacecraft traveled from Planet X to Planet Y in eight hours less than twice the number of hours in a typical earth day.  If the distance between these two planets is 4,000 parsecs, what was the average speed, in parsecs per hour, of the Starship Conundrum during this most recent voyage?\n",
      "Q3039: The owner of a company needs to install a transformer to power his electrical equipment. He operates three units of machinery that require a running current of 40A each. These appliances require at least twice their running current for starting, and the transformer chosen must account for this. What is the minimum current load that his transformer of choice must be able to carry?\n",
      "Q3040: Tim is 5 years old. His cousin, Rommel, is thrice as old as he is. His other cousin, Jenny, is 2 years older than Rommel. How many years younger is Tim than Jenny?\n",
      "Q3041: On a three-day trip, Wendy drove 125 miles on the first day, and 223 miles on the second day. How many miles did she drive on the third day, if the total miles that Wendy drove for the trip is 493 miles?\n",
      "Q3042: Andy needs to drive from Salt Lake City to Los Angeles. The drive from Salt Lake City to Las Vegas is 420 miles. The drive from Las Vegas to Los Angeles is 273 miles. He wants to make the drive in 11 hours. What's the average minimum speed that Andy needs to drive to reach Los Angeles in 11 hours?\n",
      "Q3043: Mark started the day with 14 buttons. His friend Shane gave him 3 times that amount of buttons. Then his other friend Sam asked if he could have half of Mark’s buttons. How many buttons did Mark end up with?\n",
      "Q3044: Tom decides to make lasagna with all his beef.  It takes twice as many noodles as beef.  He has 10 pounds of beef.  He already has 4 pounds of lasagna noodles and the noodles come in 2-pound packages.  How many packages does he need to buy?\n",
      "Q3045: For the funfair, the school organizers ordered 30 rolls of tickets. Each roll of tickets has 100 tickets. The 4th graders bought 30% of the tickets while the 5th graders bought 50% of the remaining tickets. Then the 6th graders bought a total of 100 tickets. How many tickets were left unsold?\n",
      "Q3046: Kekai is running a sundae booth at the carnival. On Monday, he makes a total of 40 sundaes, and he puts 6 m&ms on each sundae. On Tuesday, he makes a total of 20 sundaes, and he puts 10 m&ms on each sundae. If each m&m pack contains 40 m&ms, how many m&m packs does Kekai use?\n",
      "Q3047: A play was held in an auditorium and its ticket costs $10. An auditorium has 20 rows and each row has 10 seats. If only 3/4 of the seats were sold, how much was earned from the play?\n",
      "Q3048: 50% of substitute teachers walk out after 1 hour of teaching. 30% of the remainder quit before lunch. If 60 substitute teachers show up at 7 AM, how many will be left after lunch?\n",
      "Q3049: Andy and Dawn spent the weekend cleaning the house. When putting away the laundry Andy took six minutes more than two times the number of minutes it took Dawn to wash the dishes. If it took Dawn 20 minutes to wash the dishes how many minutes did it take Andy to put away the laundry?\n",
      "Q3050: Janet bought some muffins at the bakery. Each muffin is 75 cents. Janet paid $20 and got $11 in change back. How many muffins did Janet buy?\n",
      "Q3051: It cost 50 dollars to get cats ready for adoption, 100 dollars to get adult dogs ready for adoption, and 150 to get puppies ready for adoption.  If 2 cats, 3 adult dogs, and 2 puppies are adopted what was the cost to get them ready?\n",
      "Q3052: Hannah brought $30 to the county fair. She spent half of it on rides and another $5 on dessert. How much, in dollars, is left?\n",
      "Q3053: Carl wants to buy a new coat that is quite expensive. He saved $25 each week for 6 weeks.  On the seventh week, he had to use a third of his saving to pay some bills. On the eighth week, his dad gave him some extra money for him to buy his dream coat. If the coat cost $170, how much money did his dad give him?\n",
      "Q3054: John has 10 members of his family on his father's side.  His mother's side is 30% larger.  How many people are there in total?\n"
     ]
    }
   ],
   "source": [
    "util.process_batch(instance_num=instance_num,\n",
    "             batch_size=batch_size,\n",
    "             offset=offset,\n",
    "             batches_per_instance=batches_per_instance,\n",
    "             n=n,\n",
    "             exp='exp5')"
   ]
  },
  {
   "cell_type": "code",
   "execution_count": null,
   "id": "611c2b89",
   "metadata": {},
   "outputs": [],
   "source": []
  }
 ],
 "metadata": {
  "kernelspec": {
   "display_name": "Python (nlu)",
   "language": "python",
   "name": "nlu"
  },
  "language_info": {
   "codemirror_mode": {
    "name": "ipython",
    "version": 3
   },
   "file_extension": ".py",
   "mimetype": "text/x-python",
   "name": "python",
   "nbconvert_exporter": "python",
   "pygments_lexer": "ipython3",
   "version": "3.9.18"
  }
 },
 "nbformat": 4,
 "nbformat_minor": 5
}
