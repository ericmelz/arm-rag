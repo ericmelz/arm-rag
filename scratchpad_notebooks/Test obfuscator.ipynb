{
 "cells": [
  {
   "cell_type": "code",
   "execution_count": 1,
   "id": "ce262996",
   "metadata": {},
   "outputs": [],
   "source": [
    "%load_ext autoreload\n",
    "%autoreload 2"
   ]
  },
  {
   "cell_type": "code",
   "execution_count": 9,
   "id": "53088169",
   "metadata": {},
   "outputs": [],
   "source": [
    "import openai\n",
    "\n",
    "import obfuscator"
   ]
  },
  {
   "cell_type": "code",
   "execution_count": 10,
   "id": "6ba50dbe",
   "metadata": {},
   "outputs": [
    {
     "name": "stdout",
     "output_type": "stream",
     "text": [
      "FOUND\n"
     ]
    }
   ],
   "source": [
    "f = open('/Users/ericmelz/Documents/code/openai-quickstart-python-emelz/.env', 'r')\n",
    "\n",
    "KEY='OPENAI_API_KEY'\n",
    "l=f.readline()\n",
    "api_key = 'undefined!'\n",
    "while l:\n",
    "    if l.startswith(KEY):\n",
    "        print('FOUND')\n",
    "        api_key = l[len(KEY)+1:-1]\n",
    "        break\n",
    "    l = f.readline()\n",
    "\n",
    "f.close()\n",
    "\n",
    "openai.api_key=api_key"
   ]
  },
  {
   "cell_type": "code",
   "execution_count": 11,
   "id": "5361f318",
   "metadata": {},
   "outputs": [],
   "source": [
    "query = 'Ray buys a pack of hamburger meat for $5.00, a box of crackers for $3.50, 4 bags of frozen vegetables at $2.00 per bag and a pack of cheese for $3.50 at the grocery store.  Because he is a store rewards member, he gets 10% off of his purchase.  What does his total grocery bill come to?'"
   ]
  },
  {
   "cell_type": "code",
   "execution_count": 13,
   "id": "5cd67dfb",
   "metadata": {},
   "outputs": [
    {
     "data": {
      "text/plain": [
       "'Calix buys a quizzletoe of blibberfudge for $5.00, a fluffernackle of trinkleshuff for $3.50, 4 flibberjig of spiggotwhap at $2.00 per bag and a quizzletoe of crinklethorp for $3.50 at the quarkleflop.  Because he is a store whackledorf, he gets 10% off of his dinglefrap.  What does his snooptoggle come to?'"
      ]
     },
     "execution_count": 13,
     "metadata": {},
     "output_type": "execute_result"
    }
   ],
   "source": [
    "obfuscator.obfuscate_query(query)"
   ]
  },
  {
   "cell_type": "code",
   "execution_count": null,
   "id": "8025a633",
   "metadata": {},
   "outputs": [],
   "source": []
  }
 ],
 "metadata": {
  "kernelspec": {
   "display_name": "Python (nlu)",
   "language": "python",
   "name": "nlu"
  },
  "language_info": {
   "codemirror_mode": {
    "name": "ipython",
    "version": 3
   },
   "file_extension": ".py",
   "mimetype": "text/x-python",
   "name": "python",
   "nbconvert_exporter": "python",
   "pygments_lexer": "ipython3",
   "version": "3.9.18"
  }
 },
 "nbformat": 4,
 "nbformat_minor": 5
}
