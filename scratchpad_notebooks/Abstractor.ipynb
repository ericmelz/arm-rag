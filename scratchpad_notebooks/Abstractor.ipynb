{
 "cells": [
  {
   "cell_type": "code",
   "execution_count": 2,
   "id": "be806b89",
   "metadata": {},
   "outputs": [],
   "source": [
    "%load_ext autoreload\n",
    "%autoreload 2"
   ]
  },
  {
   "cell_type": "code",
   "execution_count": 118,
   "id": "e74ddca0",
   "metadata": {},
   "outputs": [],
   "source": [
    "import openai\n",
    "import random\n",
    "import re\n",
    "\n",
    "import util"
   ]
  },
  {
   "cell_type": "code",
   "execution_count": 10,
   "id": "990f76a2",
   "metadata": {},
   "outputs": [
    {
     "name": "stdout",
     "output_type": "stream",
     "text": [
      "FOUND\n"
     ]
    }
   ],
   "source": [
    "f = open('/Users/ericmelz/Documents/code/openai-quickstart-python-emelz/.env', 'r')\n",
    "\n",
    "KEY='OPENAI_API_KEY'\n",
    "l=f.readline()\n",
    "api_key = 'undefined!'\n",
    "while l:\n",
    "    if l.startswith(KEY):\n",
    "        print('FOUND')\n",
    "        api_key = l[len(KEY)+1:-1]\n",
    "        break\n",
    "    l = f.readline()\n",
    "\n",
    "f.close()\n",
    "\n",
    "openai.api_key=api_key"
   ]
  },
  {
   "cell_type": "code",
   "execution_count": 4,
   "id": "11c5059d",
   "metadata": {},
   "outputs": [],
   "source": [
    "query = 'Ray buys a pack of hamburger meat for $5.00, a box of crackers for $3.50, 4 bags of frozen vegetables at $2.00 per bag and a pack of cheese for $3.50 at the grocery store.  Because he is a store rewards member, he gets 10% off of his purchase.  What does his total grocery bill come to?'"
   ]
  },
  {
   "cell_type": "code",
   "execution_count": 148,
   "id": "657c2c4d",
   "metadata": {},
   "outputs": [],
   "source": [
    "noun_preamble = 'Given the following question, list the nouns.  Return the answer as a list of bullet points, or say None if there are no items.'\n",
    "pronoun_preamble = 'Given the following question, list the pronouns.  Return the answer as a list of bullet points, or say None if there are no items.'\n",
    "proper_noun_preamble = 'Given the following question, list the proper nouns.  Return the answer as a list of bullet points, or say None if there are no items.'\n",
    "male_name_preamble = 'Given the following question, list the males mentioned in the question.  Return the answer as a list of bullet points, or say None if there are no items.'\n",
    "female_name_preamble = 'Given the following question, list the females mentioned in the question.  Return the answer as a list of bullet points, or say None if there are no items'"
   ]
  },
  {
   "cell_type": "code",
   "execution_count": 150,
   "id": "bdf4a4e8",
   "metadata": {},
   "outputs": [],
   "source": [
    "noun_query = f'{noun_preamble}\\n{query}'\n",
    "pronoun_query = f'{pronoun_preamble}\\n{query}'\n",
    "proper_noun_query = f'{proper_noun_preamble}\\n{query}'\n",
    "male_query = f'{male_name_preamble}\\n{query}'\n",
    "female_query = f'{female_name_preamble}\\n{query}'"
   ]
  },
  {
   "cell_type": "code",
   "execution_count": 55,
   "id": "a810d73e",
   "metadata": {},
   "outputs": [
    {
     "name": "stdout",
     "output_type": "stream",
     "text": [
      "Given the following question, list the nouns.  Return the answer as a list of bullet points, or say None if there are no items.\n",
      "Ray buys a pack of hamburger meat for $5.00, a box of crackers for $3.50, 4 bags of frozen vegetables at $2.00 per bag and a pack of cheese for $3.50 at the grocery store.  Because he is a store rewards member, he gets 10% off of his purchase.  What does his total grocery bill come to?\n"
     ]
    }
   ],
   "source": [
    "print(noun_query)"
   ]
  },
  {
   "cell_type": "code",
   "execution_count": 56,
   "id": "7aad2302",
   "metadata": {},
   "outputs": [
    {
     "name": "stdout",
     "output_type": "stream",
     "text": [
      "Given the following question, list the pronouns.  Return the answer as a list of bullet points, or say None if there are no items.\n",
      "Ray buys a pack of hamburger meat for $5.00, a box of crackers for $3.50, 4 bags of frozen vegetables at $2.00 per bag and a pack of cheese for $3.50 at the grocery store.  Because he is a store rewards member, he gets 10% off of his purchase.  What does his total grocery bill come to?\n"
     ]
    }
   ],
   "source": [
    "print(pronoun_query)"
   ]
  },
  {
   "cell_type": "code",
   "execution_count": 57,
   "id": "3edd5339",
   "metadata": {},
   "outputs": [
    {
     "name": "stdout",
     "output_type": "stream",
     "text": [
      "Given the following question, list the proper nouns.  Return the answer as a list of bullet points, or say None if there are no items.\n",
      "Ray buys a pack of hamburger meat for $5.00, a box of crackers for $3.50, 4 bags of frozen vegetables at $2.00 per bag and a pack of cheese for $3.50 at the grocery store.  Because he is a store rewards member, he gets 10% off of his purchase.  What does his total grocery bill come to?\n"
     ]
    }
   ],
   "source": [
    "print(proper_noun_query)"
   ]
  },
  {
   "cell_type": "code",
   "execution_count": 151,
   "id": "e2593e47",
   "metadata": {},
   "outputs": [
    {
     "name": "stdout",
     "output_type": "stream",
     "text": [
      "Given the following question, list the males mentioned in the question.  Return the answer as a list of bullet points, or say None if there are no items.\n",
      "Ray buys a pack of hamburger meat for $5.00, a box of crackers for $3.50, 4 bags of frozen vegetables at $2.00 per bag and a pack of cheese for $3.50 at the grocery store.  Because he is a store rewards member, he gets 10% off of his purchase.  What does his total grocery bill come to?\n"
     ]
    }
   ],
   "source": [
    "print(male_query)"
   ]
  },
  {
   "cell_type": "code",
   "execution_count": 59,
   "id": "14ad5348",
   "metadata": {},
   "outputs": [
    {
     "name": "stdout",
     "output_type": "stream",
     "text": [
      "Given the following question, list the females mentioned in the question.  Return the answer as a list of bullet points, or say None if there are no items\n",
      "Ray buys a pack of hamburger meat for $5.00, a box of crackers for $3.50, 4 bags of frozen vegetables at $2.00 per bag and a pack of cheese for $3.50 at the grocery store.  Because he is a store rewards member, he gets 10% off of his purchase.  What does his total grocery bill come to?\n"
     ]
    }
   ],
   "source": [
    "print(female_query)"
   ]
  },
  {
   "cell_type": "code",
   "execution_count": 60,
   "id": "71570ce2",
   "metadata": {},
   "outputs": [
    {
     "data": {
      "text/plain": [
       "<OpenAIObject chat.completion id=chatcmpl-8Fsrio2aYjJv6Rz195e70UA80wsAa at 0x144127e00> JSON: {\n",
       "  \"id\": \"chatcmpl-8Fsrio2aYjJv6Rz195e70UA80wsAa\",\n",
       "  \"object\": \"chat.completion\",\n",
       "  \"created\": 1698796514,\n",
       "  \"model\": \"gpt-3.5-turbo-0613\",\n",
       "  \"choices\": [\n",
       "    {\n",
       "      \"index\": 0,\n",
       "      \"message\": {\n",
       "        \"role\": \"assistant\",\n",
       "        \"content\": \"- Ray\\n- pack\\n- hamburger meat\\n- box\\n- crackers\\n- bags\\n- frozen vegetables\\n- pack\\n- cheese\\n- grocery store\\n- store rewards member\\n- purchase\\n- total grocery bill\"\n",
       "      },\n",
       "      \"finish_reason\": \"stop\"\n",
       "    }\n",
       "  ],\n",
       "  \"usage\": {\n",
       "    \"prompt_tokens\": 116,\n",
       "    \"completion_tokens\": 45,\n",
       "    \"total_tokens\": 161\n",
       "  }\n",
       "}"
      ]
     },
     "execution_count": 60,
     "metadata": {},
     "output_type": "execute_result"
    }
   ],
   "source": [
    "util.call_gpt(noun_query)"
   ]
  },
  {
   "cell_type": "code",
   "execution_count": 153,
   "id": "850d85a3",
   "metadata": {},
   "outputs": [],
   "source": [
    "def extract_list_items(list_string):\n",
    "    items = list_string.split('\\n')\n",
    "    items = [item.replace('- ', '') for item in items]\n",
    "    items = list(filter(lambda x: x != 'None', items))\n",
    "    return items"
   ]
  },
  {
   "cell_type": "code",
   "execution_count": 159,
   "id": "7fa5b7d1",
   "metadata": {},
   "outputs": [],
   "source": [
    "def get_entities(preamble, query):\n",
    "    \"\"\"\n",
    "    Given a preamble, fetch a list of entities.\n",
    "    \"\"\"\n",
    "    prompt = f'{preamble}\\n{query}'\n",
    "    response = util.call_gpt(prompt)\n",
    "    list_string = response.choices[0]['message']['content']\n",
    "    if list_string == 'None':\n",
    "        return []\n",
    "    return extract_list_items(list_string)"
   ]
  },
  {
   "cell_type": "code",
   "execution_count": 83,
   "id": "c04f5c1e",
   "metadata": {},
   "outputs": [],
   "source": [
    "def get_proper_nouns(query):\n",
    "    return get_entities(proper_noun_preamble, query)"
   ]
  },
  {
   "cell_type": "code",
   "execution_count": 108,
   "id": "04f3f108",
   "metadata": {},
   "outputs": [],
   "source": [
    "def get_nouns(query, no_numbers=True):\n",
    "    nouns = get_entities(noun_preamble, query)\n",
    "    if no_numbers:\n",
    "        nouns = list(filter(lambda n: not re.match(r'.*\\d.*', n), nouns))\n",
    "    return nouns"
   ]
  },
  {
   "cell_type": "code",
   "execution_count": 91,
   "id": "612f86dd",
   "metadata": {},
   "outputs": [],
   "source": [
    "def get_males(query):\n",
    "    return get_entities(male_name_preamble, query)"
   ]
  },
  {
   "cell_type": "code",
   "execution_count": 92,
   "id": "cd606977",
   "metadata": {},
   "outputs": [],
   "source": [
    "def get_females(query):\n",
    "    return get_entities(female_name_preamble, query)"
   ]
  },
  {
   "cell_type": "code",
   "execution_count": 84,
   "id": "c40cabda",
   "metadata": {},
   "outputs": [
    {
     "data": {
      "text/plain": [
       "['Ray',\n",
       " 'hamburger meat',\n",
       " 'crackers',\n",
       " 'bags of frozen vegetables',\n",
       " 'cheese',\n",
       " 'grocery store']"
      ]
     },
     "execution_count": 84,
     "metadata": {},
     "output_type": "execute_result"
    }
   ],
   "source": [
    "get_proper_nouns(query)"
   ]
  },
  {
   "cell_type": "code",
   "execution_count": 109,
   "id": "7e27c2a4",
   "metadata": {},
   "outputs": [
    {
     "data": {
      "text/plain": [
       "['Ray',\n",
       " 'pack',\n",
       " 'hamburger meat',\n",
       " 'box',\n",
       " 'crackers',\n",
       " 'bags',\n",
       " 'frozen vegetables',\n",
       " 'pack',\n",
       " 'cheese',\n",
       " 'grocery store',\n",
       " 'store rewards member',\n",
       " 'purchase',\n",
       " 'total grocery bill']"
      ]
     },
     "execution_count": 109,
     "metadata": {},
     "output_type": "execute_result"
    }
   ],
   "source": [
    "nouns = get_nouns(query)\n",
    "nouns"
   ]
  },
  {
   "cell_type": "code",
   "execution_count": 111,
   "id": "1bcc34d5",
   "metadata": {},
   "outputs": [],
   "source": [
    "def get_non_name_nouns(names, nouns):\n",
    "    noun_set = set(nouns)\n",
    "    name_set = set(names)\n",
    "    non_name_noun_set = set(noun_set).difference(name_set)\n",
    "    return list(non_name_noun_set)"
   ]
  },
  {
   "cell_type": "code",
   "execution_count": 112,
   "id": "57502ea2",
   "metadata": {},
   "outputs": [
    {
     "data": {
      "text/plain": [
       "['Ray']"
      ]
     },
     "execution_count": 112,
     "metadata": {},
     "output_type": "execute_result"
    }
   ],
   "source": [
    "males = get_males(query)\n",
    "males"
   ]
  },
  {
   "cell_type": "code",
   "execution_count": 115,
   "id": "dbf1a721",
   "metadata": {},
   "outputs": [
    {
     "data": {
      "text/plain": [
       "[]"
      ]
     },
     "execution_count": 115,
     "metadata": {},
     "output_type": "execute_result"
    }
   ],
   "source": [
    "females = get_females(query)\n",
    "females"
   ]
  },
  {
   "cell_type": "code",
   "execution_count": 116,
   "id": "9003ab21",
   "metadata": {},
   "outputs": [
    {
     "data": {
      "text/plain": [
       "['Ray']"
      ]
     },
     "execution_count": 116,
     "metadata": {},
     "output_type": "execute_result"
    }
   ],
   "source": [
    "people = males + females\n",
    "people"
   ]
  },
  {
   "cell_type": "code",
   "execution_count": 117,
   "id": "0858454e",
   "metadata": {},
   "outputs": [
    {
     "data": {
      "text/plain": [
       "['pack',\n",
       " 'crackers',\n",
       " 'purchase',\n",
       " 'box',\n",
       " 'cheese',\n",
       " 'hamburger meat',\n",
       " 'bags',\n",
       " 'grocery store',\n",
       " 'frozen vegetables',\n",
       " 'total grocery bill',\n",
       " 'store rewards member']"
      ]
     },
     "execution_count": 117,
     "metadata": {},
     "output_type": "execute_result"
    }
   ],
   "source": [
    "nnn = get_non_name_nouns(people, nouns)\n",
    "nnn"
   ]
  },
  {
   "cell_type": "code",
   "execution_count": 23,
   "id": "f42099d5",
   "metadata": {},
   "outputs": [],
   "source": [
    "weird_things = [\n",
    "    'fluffernackle',\n",
    "    'spiggotwhap',\n",
    "    'blibberfudge',\n",
    "    'quizzletoe',\n",
    "    'plumbuzzle',\n",
    "    'trinkleshuff',\n",
    "    'flibberjig',\n",
    "    'whackledorf',\n",
    "    'snooptoggle',\n",
    "    'zibberflap',\n",
    "    'gobblequark',\n",
    "    'dinglefrap',\n",
    "    'snickerblast',\n",
    "    'floopernoodle',\n",
    "    'wobblegruff',\n",
    "    'crinklethorp',\n",
    "    'blubberclank',\n",
    "    'mumblestitch',\n",
    "    'quarkleflop',\n",
    "    'slippleshank'\n",
    "]"
   ]
  },
  {
   "cell_type": "code",
   "execution_count": 97,
   "id": "5d56613c",
   "metadata": {},
   "outputs": [
    {
     "data": {
      "text/plain": [
       "20"
      ]
     },
     "execution_count": 97,
     "metadata": {},
     "output_type": "execute_result"
    }
   ],
   "source": [
    "len(weird_things)"
   ]
  },
  {
   "cell_type": "code",
   "execution_count": 24,
   "id": "41a9462c",
   "metadata": {},
   "outputs": [],
   "source": [
    "female_names = [\n",
    "    'Isolde',\n",
    "    'Seraphine',\n",
    "    'Elowen',\n",
    "    'Thalassa',\n",
    "    'Vespera',\n",
    "    'Calista',\n",
    "    'Ondine',\n",
    "    'Belphoebe',\n",
    "    'Isabeau',\n",
    "    'Eulalia',\n",
    "]"
   ]
  },
  {
   "cell_type": "code",
   "execution_count": 25,
   "id": "c7f2fa14",
   "metadata": {},
   "outputs": [],
   "source": [
    "male_names = [\n",
    "    'Thorne',\n",
    "    'Jorvik',\n",
    "    'Elsdon',\n",
    "    'Calix',\n",
    "    'Vero',\n",
    "    'Orlan',\n",
    "    'Brevin',\n",
    "    'Tyrus',\n",
    "    'Halvard',\n",
    "    'Dainan'\n",
    "]"
   ]
  },
  {
   "cell_type": "code",
   "execution_count": 121,
   "id": "0d33cd46",
   "metadata": {},
   "outputs": [],
   "source": [
    "random.shuffle(male_names)"
   ]
  },
  {
   "cell_type": "code",
   "execution_count": 120,
   "id": "a0da142a",
   "metadata": {},
   "outputs": [
    {
     "data": {
      "text/plain": [
       "['Elsdon',\n",
       " 'Brevin',\n",
       " 'Calix',\n",
       " 'Dainan',\n",
       " 'Thorne',\n",
       " 'Tyrus',\n",
       " 'Jorvik',\n",
       " 'Halvard',\n",
       " 'Orlan',\n",
       " 'Vero']"
      ]
     },
     "execution_count": 120,
     "metadata": {},
     "output_type": "execute_result"
    }
   ],
   "source": [
    "male_names"
   ]
  },
  {
   "cell_type": "code",
   "execution_count": 122,
   "id": "920a4bdf",
   "metadata": {},
   "outputs": [
    {
     "data": {
      "text/plain": [
       "['Ray']"
      ]
     },
     "execution_count": 122,
     "metadata": {},
     "output_type": "execute_result"
    }
   ],
   "source": [
    "males"
   ]
  },
  {
   "cell_type": "code",
   "execution_count": 124,
   "id": "9c8d1b79",
   "metadata": {},
   "outputs": [
    {
     "name": "stdout",
     "output_type": "stream",
     "text": [
      "Ray: Halvard\n"
     ]
    }
   ],
   "source": [
    "for real, fake in zip(males,male_names):\n",
    "    print(f'{real}: {fake}')"
   ]
  },
  {
   "cell_type": "code",
   "execution_count": 127,
   "id": "a45fe7a2",
   "metadata": {},
   "outputs": [],
   "source": [
    "male_mapping = {real: fake for real, fake in zip(males, male_names)}"
   ]
  },
  {
   "cell_type": "code",
   "execution_count": 128,
   "id": "c1dd80f4",
   "metadata": {},
   "outputs": [
    {
     "data": {
      "text/plain": [
       "{'Ray': 'Halvard'}"
      ]
     },
     "execution_count": 128,
     "metadata": {},
     "output_type": "execute_result"
    }
   ],
   "source": [
    "male_mapping"
   ]
  },
  {
   "cell_type": "code",
   "execution_count": 129,
   "id": "541df654",
   "metadata": {},
   "outputs": [
    {
     "data": {
      "text/plain": [
       "'Ray buys a pack of hamburger meat for $5.00, a box of crackers for $3.50, 4 bags of frozen vegetables at $2.00 per bag and a pack of cheese for $3.50 at the grocery store.  Because he is a store rewards member, he gets 10% off of his purchase.  What does his total grocery bill come to?'"
      ]
     },
     "execution_count": 129,
     "metadata": {},
     "output_type": "execute_result"
    }
   ],
   "source": [
    "query"
   ]
  },
  {
   "cell_type": "code",
   "execution_count": 132,
   "id": "14de4efd",
   "metadata": {},
   "outputs": [],
   "source": [
    "s = query\n",
    "for real, fake in male_mapping.items():\n",
    "    s = s.replace(real, fake)"
   ]
  },
  {
   "cell_type": "code",
   "execution_count": 133,
   "id": "0885e910",
   "metadata": {},
   "outputs": [
    {
     "data": {
      "text/plain": [
       "'Halvard buys a pack of hamburger meat for $5.00, a box of crackers for $3.50, 4 bags of frozen vegetables at $2.00 per bag and a pack of cheese for $3.50 at the grocery store.  Because he is a store rewards member, he gets 10% off of his purchase.  What does his total grocery bill come to?'"
      ]
     },
     "execution_count": 133,
     "metadata": {},
     "output_type": "execute_result"
    }
   ],
   "source": [
    "s"
   ]
  },
  {
   "cell_type": "code",
   "execution_count": 134,
   "id": "ab32c6c8",
   "metadata": {},
   "outputs": [],
   "source": [
    "random.shuffle(weird_things)"
   ]
  },
  {
   "cell_type": "code",
   "execution_count": 135,
   "id": "02bdc27d",
   "metadata": {},
   "outputs": [],
   "source": [
    "thing_mapping = {real: fake for real, fake in zip(nnn, weird_things)}"
   ]
  },
  {
   "cell_type": "code",
   "execution_count": 136,
   "id": "6af0d5c9",
   "metadata": {},
   "outputs": [
    {
     "data": {
      "text/plain": [
       "{'pack': 'plumbuzzle',\n",
       " 'crackers': 'wobblegruff',\n",
       " 'purchase': 'zibberflap',\n",
       " 'box': 'dinglefrap',\n",
       " 'cheese': 'trinkleshuff',\n",
       " 'hamburger meat': 'spiggotwhap',\n",
       " 'bags': 'crinklethorp',\n",
       " 'grocery store': 'floopernoodle',\n",
       " 'frozen vegetables': 'blibberfudge',\n",
       " 'total grocery bill': 'mumblestitch',\n",
       " 'store rewards member': 'snickerblast'}"
      ]
     },
     "execution_count": 136,
     "metadata": {},
     "output_type": "execute_result"
    }
   ],
   "source": [
    "thing_mapping"
   ]
  },
  {
   "cell_type": "code",
   "execution_count": 137,
   "id": "403785d0",
   "metadata": {},
   "outputs": [],
   "source": [
    "for real, fake in thing_mapping.items():\n",
    "    s = s.replace(real, fake)"
   ]
  },
  {
   "cell_type": "code",
   "execution_count": 138,
   "id": "c4ac554c",
   "metadata": {},
   "outputs": [
    {
     "data": {
      "text/plain": [
       "'Halvard buys a plumbuzzle of spiggotwhap for $5.00, a dinglefrap of wobblegruff for $3.50, 4 crinklethorp of blibberfudge at $2.00 per bag and a plumbuzzle of trinkleshuff for $3.50 at the floopernoodle.  Because he is a snickerblast, he gets 10% off of his zibberflap.  What does his mumblestitch come to?'"
      ]
     },
     "execution_count": 138,
     "metadata": {},
     "output_type": "execute_result"
    }
   ],
   "source": [
    "s"
   ]
  },
  {
   "cell_type": "code",
   "execution_count": 139,
   "id": "8c4859d9",
   "metadata": {},
   "outputs": [
    {
     "data": {
      "text/plain": [
       "'Ray buys a pack of hamburger meat for $5.00, a box of crackers for $3.50, 4 bags of frozen vegetables at $2.00 per bag and a pack of cheese for $3.50 at the grocery store.  Because he is a store rewards member, he gets 10% off of his purchase.  What does his total grocery bill come to?'"
      ]
     },
     "execution_count": 139,
     "metadata": {},
     "output_type": "execute_result"
    }
   ],
   "source": [
    "query"
   ]
  },
  {
   "cell_type": "code",
   "execution_count": 158,
   "id": "77a46aea",
   "metadata": {},
   "outputs": [],
   "source": [
    "def obfuscate_query(query):\n",
    "    males = get_males(query)\n",
    "    females = get_females(query)\n",
    "    people = male_names + female_names\n",
    "    nouns = get_nouns(query)\n",
    "    non_name_nouns = get_non_name_nouns(people, nouns)\n",
    "    random.shuffle(weird_things)\n",
    "    random.shuffle(male_names)\n",
    "    random.shuffle(female_names)\n",
    "    \n",
    "    male_mapping = {real: fake for real, fake in zip(males, male_names)}\n",
    "    female_mapping = {real: fake for real, fake in zip(females, female_names)}\n",
    "    thing_mapping = {real: fake for real, fake in zip(non_name_nouns, weird_things)}\n",
    "    \n",
    "    s = query\n",
    "    for real, fake in male_mapping.items():\n",
    "        s = s.replace(real, fake)\n",
    "    for real, fake in female_mapping.items():\n",
    "        s = s.replace(real, fake)\n",
    "    for real, fake in thing_mapping.items():\n",
    "        s = s.replace(real, fake)\n",
    "        \n",
    "    return s"
   ]
  },
  {
   "cell_type": "code",
   "execution_count": 160,
   "id": "122a6780",
   "metadata": {},
   "outputs": [
    {
     "data": {
      "text/plain": [
       "'crinklethorp buys a gobblequark of zibberflap for $5.00, a trinkleshuff of spiggotwhap for $3.50, 4 quizzletoes of quarkleflop at $2.00 per quizzletoe and a gobblequark of blibberfudge for $3.50 at the flibberjig.  Because he is a plumbuzzle, he gets 10% off of his snickerblast.  What does his mumblestitch come to?'"
      ]
     },
     "execution_count": 160,
     "metadata": {},
     "output_type": "execute_result"
    }
   ],
   "source": [
    "obfuscate_query(query)"
   ]
  },
  {
   "cell_type": "code",
   "execution_count": null,
   "id": "aa0dcdfc",
   "metadata": {},
   "outputs": [],
   "source": []
  }
 ],
 "metadata": {
  "kernelspec": {
   "display_name": "Python (nlu)",
   "language": "python",
   "name": "nlu"
  },
  "language_info": {
   "codemirror_mode": {
    "name": "ipython",
    "version": 3
   },
   "file_extension": ".py",
   "mimetype": "text/x-python",
   "name": "python",
   "nbconvert_exporter": "python",
   "pygments_lexer": "ipython3",
   "version": "3.9.18"
  }
 },
 "nbformat": 4,
 "nbformat_minor": 5
}
