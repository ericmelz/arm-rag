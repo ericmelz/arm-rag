{
 "cells": [
  {
   "cell_type": "code",
   "execution_count": 2,
   "id": "91761c6b",
   "metadata": {},
   "outputs": [],
   "source": [
    "# DSPy demo goes here\n",
    "# see https://github.com/ericmelz/dspy/blob/main/intro.ipynb"
   ]
  },
  {
   "cell_type": "code",
   "execution_count": null,
   "id": "99553ba6",
   "metadata": {},
   "outputs": [],
   "source": []
  }
 ],
 "metadata": {
  "kernelspec": {
   "display_name": "Python (nlu)",
   "language": "python",
   "name": "nlu"
  },
  "language_info": {
   "codemirror_mode": {
    "name": "ipython",
    "version": 3
   },
   "file_extension": ".py",
   "mimetype": "text/x-python",
   "name": "python",
   "nbconvert_exporter": "python",
   "pygments_lexer": "ipython3",
   "version": "3.9.18"
  }
 },
 "nbformat": 4,
 "nbformat_minor": 5
}
