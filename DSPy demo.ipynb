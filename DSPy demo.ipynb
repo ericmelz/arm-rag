{
 "cells": [
  {
   "cell_type": "code",
   "execution_count": 2,
   "id": "729cda09",
   "metadata": {},
   "outputs": [],
   "source": [
    "# DSPy demo goes here\n",
    "# see https://github.com/ericmelz/dspy/blob/main/intro.ipynb"
   ]
  },
  {
   "cell_type": "code",
   "execution_count": 9,
   "id": "9151bf12",
   "metadata": {},
   "outputs": [],
   "source": [
    "import dspy\n",
    "import openai"
   ]
  },
  {
   "cell_type": "code",
   "execution_count": 10,
   "id": "c66bb411",
   "metadata": {},
   "outputs": [
    {
     "name": "stdout",
     "output_type": "stream",
     "text": [
      "FOUND\n"
     ]
    }
   ],
   "source": [
    "\n",
    "f = open('/Users/ericmelz/Documents/code/openai-quickstart-python-emelz/.env', 'r')\n",
    "\n",
    "KEY='OPENAI_API_KEY'\n",
    "l=f.readline()\n",
    "api_key = 'undefined!'\n",
    "while l:\n",
    "    if l.startswith(KEY):\n",
    "        print('FOUND')\n",
    "        api_key = l[len(KEY)+1:-1]\n",
    "        break\n",
    "    l = f.readline()\n",
    "\n",
    "f.close()\n",
    "\n",
    "openai.api_key=api_key"
   ]
  },
  {
   "cell_type": "code",
   "execution_count": 4,
   "id": "4569d8e5",
   "metadata": {},
   "outputs": [],
   "source": [
    "turbo = dspy.OpenAI(model='gpt-3.5-turbo')\n",
    "colbertv2_wiki17_abstracts = dspy.ColBERTv2(url='http://20.102.90.50:2017/wiki17_abstracts')\n",
    "\n",
    "dspy.settings.configure(lm=turbo, rm=colbertv2_wiki17_abstracts)"
   ]
  },
  {
   "cell_type": "code",
   "execution_count": 5,
   "id": "5db2095c",
   "metadata": {},
   "outputs": [],
   "source": [
    "class BasicQA(dspy.Signature):\n",
    "    \"\"\"Answer questions with short factoid answers.\"\"\"\n",
    "\n",
    "    question = dspy.InputField()\n",
    "    answer = dspy.OutputField(desc=\"often between 1 and 5 words\")"
   ]
  },
  {
   "cell_type": "code",
   "execution_count": 6,
   "id": "fc0b5bdb",
   "metadata": {},
   "outputs": [],
   "source": [
    "# Define the predictor.\n",
    "generate_answer = dspy.Predict(BasicQA)"
   ]
  },
  {
   "cell_type": "code",
   "execution_count": 13,
   "id": "367d2827",
   "metadata": {},
   "outputs": [],
   "source": [
    "# Call the predictor on a particular input.\n",
    "pred = generate_answer(question='What is the capital of France?')"
   ]
  },
  {
   "cell_type": "code",
   "execution_count": 14,
   "id": "c560bc46",
   "metadata": {},
   "outputs": [
    {
     "data": {
      "text/plain": [
       "Prediction(\n",
       "    answer='Paris'\n",
       ")"
      ]
     },
     "execution_count": 14,
     "metadata": {},
     "output_type": "execute_result"
    }
   ],
   "source": [
    "pred"
   ]
  },
  {
   "cell_type": "markdown",
   "id": "dc87b29e",
   "metadata": {},
   "source": [
    "## Some math using BasicQA and turbo"
   ]
  },
  {
   "cell_type": "code",
   "execution_count": 38,
   "id": "a9c2bae9",
   "metadata": {},
   "outputs": [],
   "source": [
    "def expect(gold, pred):\n",
    "    if str(gold) == str(pred.answer):\n",
    "        print('correct')\n",
    "    else:\n",
    "        print(F'INCORRECT.  Expected {gold}, got {pred.answer}')"
   ]
  },
  {
   "cell_type": "code",
   "execution_count": 27,
   "id": "208eb66c",
   "metadata": {},
   "outputs": [
    {
     "name": "stdout",
     "output_type": "stream",
     "text": [
      "correct\n"
     ]
    }
   ],
   "source": [
    "pred = generate_answer(question='2+2')\n",
    "expect(4, pred)"
   ]
  },
  {
   "cell_type": "code",
   "execution_count": 28,
   "id": "96f51396",
   "metadata": {},
   "outputs": [
    {
     "name": "stdout",
     "output_type": "stream",
     "text": [
      "correct\n"
     ]
    }
   ],
   "source": [
    "pred = generate_answer(question='7+9')\n",
    "expect(16, pred)"
   ]
  },
  {
   "cell_type": "code",
   "execution_count": 31,
   "id": "0cb8c7c1",
   "metadata": {},
   "outputs": [
    {
     "name": "stdout",
     "output_type": "stream",
     "text": [
      "correct\n"
     ]
    }
   ],
   "source": [
    "pred = generate_answer(question='27+59')\n",
    "expect(86, pred)"
   ]
  },
  {
   "cell_type": "code",
   "execution_count": 33,
   "id": "2f625daf",
   "metadata": {},
   "outputs": [
    {
     "name": "stdout",
     "output_type": "stream",
     "text": [
      "correct\n"
     ]
    }
   ],
   "source": [
    "pred = generate_answer(question='327+959')\n",
    "expect(1286, pred)"
   ]
  },
  {
   "cell_type": "code",
   "execution_count": 34,
   "id": "b799ee07",
   "metadata": {},
   "outputs": [
    {
     "name": "stdout",
     "output_type": "stream",
     "text": [
      "correct\n"
     ]
    }
   ],
   "source": [
    "pred = generate_answer(question='4327+8959')\n",
    "expect(13286, pred)"
   ]
  },
  {
   "cell_type": "code",
   "execution_count": 35,
   "id": "6eb8e726",
   "metadata": {},
   "outputs": [
    {
     "name": "stdout",
     "output_type": "stream",
     "text": [
      "correct\n"
     ]
    }
   ],
   "source": [
    "pred = generate_answer(question='4329+8959')\n",
    "expect(13288, pred)"
   ]
  },
  {
   "cell_type": "code",
   "execution_count": 36,
   "id": "d62ed258",
   "metadata": {},
   "outputs": [
    {
     "name": "stdout",
     "output_type": "stream",
     "text": [
      "correct\n"
     ]
    }
   ],
   "source": [
    "pred = generate_answer(question='44329+28959')\n",
    "expect(73288, pred)"
   ]
  },
  {
   "cell_type": "code",
   "execution_count": 39,
   "id": "cb19de9f",
   "metadata": {},
   "outputs": [
    {
     "name": "stdout",
     "output_type": "stream",
     "text": [
      "INCORRECT.  Expected 1873288, got 1876288\n"
     ]
    }
   ],
   "source": [
    "pred = generate_answer(question='944329+928959')\n",
    "expect(1873288, pred)"
   ]
  },
  {
   "cell_type": "markdown",
   "id": "16371e20",
   "metadata": {},
   "source": [
    "## CommonsenseQA\n",
    "See https://github.com/ezelikman/STaR/blob/main/commonsenseqa/prompts.txt"
   ]
  },
  {
   "cell_type": "code",
   "execution_count": 44,
   "id": "f93f88cb",
   "metadata": {},
   "outputs": [
    {
     "name": "stdout",
     "output_type": "stream",
     "text": [
      "correct\n"
     ]
    }
   ],
   "source": [
    "q = \"\"\"\n",
    "Q: What do people use to absorb extra ink from a fountain pen?\n",
    "Answer Choices:\n",
    "(a) shirt pocket\n",
    "(b) calligrapher's hand\n",
    "(c) inkwell\n",
    "(d) desk drawer\n",
    "(e) blotter\n",
    "\"\"\"\n",
    "\n",
    "pred = generate_answer(question=q)\n",
    "expect('(e) blotter', pred)"
   ]
  },
  {
   "cell_type": "code",
   "execution_count": 46,
   "id": "37eec9df",
   "metadata": {},
   "outputs": [
    {
     "name": "stdout",
     "output_type": "stream",
     "text": [
      "INCORRECT.  Expected (c) television, got television\n"
     ]
    }
   ],
   "source": [
    "q = \"\"\"\n",
    "Q: What home entertainment equipment requires cable?\n",
    "Answer Choices:\n",
    "(a) radio shack\n",
    "(b) substation\n",
    "(c) television\n",
    "(d) cabinet\n",
    "(e) desk\n",
    "\"\"\"\n",
    "a = \"(c) television\"\n",
    "\n",
    "expect(a, generate_answer(question=q))"
   ]
  },
  {
   "cell_type": "code",
   "execution_count": 53,
   "id": "becc6574",
   "metadata": {},
   "outputs": [],
   "source": [
    "preamble = \"\"\"\n",
    "Answer the following multiple choice question.\n",
    "\n",
    "Present the answer in the format\n",
    "(${letter}) ${answer}\n",
    "\n",
    "----\n",
    "Example:\n",
    "\n",
    "Q: What do people use to absorb extra ink from a fountain pen?\n",
    "Answer Choices:\n",
    "(a) shirt pocket\n",
    "(b) calligrapher's hand\n",
    "(c) inkwell\n",
    "(d) desk drawer\n",
    "(e) blotter\n",
    "\n",
    "A: (e) blotter\n",
    "----\n",
    "\"\"\""
   ]
  },
  {
   "cell_type": "code",
   "execution_count": 54,
   "id": "34944322",
   "metadata": {},
   "outputs": [
    {
     "name": "stdout",
     "output_type": "stream",
     "text": [
      "correct\n"
     ]
    }
   ],
   "source": [
    "q = f\"\"\"\n",
    "{preamble}\n",
    "Q: What home entertainment equipment requires cable?\n",
    "Answer Choices:\n",
    "(a) radio shack\n",
    "(b) substation\n",
    "(c) television\n",
    "(d) cabinet\n",
    "(e) desk\n",
    "\n",
    "A:\n",
    "\"\"\"\n",
    "a = \"(c) television\"\n",
    "\n",
    "expect(a, generate_answer(question=q))"
   ]
  },
  {
   "cell_type": "code",
   "execution_count": 55,
   "id": "d22e144d",
   "metadata": {},
   "outputs": [
    {
     "name": "stdout",
     "output_type": "stream",
     "text": [
      "correct\n"
     ]
    }
   ],
   "source": [
    "q = f\"\"\"\n",
    "{preamble}\n",
    "Q: The fox walked from the city into the forest, what was it looking for?\n",
    "Answer Choices:\n",
    "(a) pretty flowers\n",
    "(b) hen house\n",
    "(c) natural habitat\n",
    "(d) storybook\n",
    "(e) dense forest\n",
    "\n",
    "A:\n",
    "\"\"\"\n",
    "a = \"(c) natural habitat\"\n",
    "\n",
    "expect(a, generate_answer(question=q))"
   ]
  },
  {
   "cell_type": "code",
   "execution_count": 56,
   "id": "66ae8f2b",
   "metadata": {},
   "outputs": [
    {
     "name": "stdout",
     "output_type": "stream",
     "text": [
      "correct\n"
     ]
    }
   ],
   "source": [
    "q = f\"\"\"\n",
    "{preamble}\n",
    "Q: Sammy wanted to go to where the people were. Where might he go?\n",
    "Answer Choices:\n",
    "(a) populated areas\n",
    "(b) race track\n",
    "(c) desert\n",
    "(d) apartment\n",
    "(e) roadblock\n",
    "\n",
    "A:\n",
    "\"\"\"\n",
    "a = \"(a) populated areas\"\n",
    "\n",
    "expect(a, generate_answer(question=q))"
   ]
  },
  {
   "cell_type": "code",
   "execution_count": 57,
   "id": "e52a3591",
   "metadata": {},
   "outputs": [
    {
     "name": "stdout",
     "output_type": "stream",
     "text": [
      "correct\n"
     ]
    }
   ],
   "source": [
    "q = f\"\"\"\n",
    "{preamble}\n",
    "Q: Where do you put your grapes just before checking out?\n",
    "Answer Choices:\n",
    "(a) mouth\n",
    "(b) grocery cart\n",
    "(c) super market\n",
    "(d) fruit basket\n",
    "(e) fruit market\n",
    "\n",
    "A:\n",
    "\"\"\"\n",
    "a = \"(b) grocery cart\"\n",
    "\n",
    "expect(a, generate_answer(question=q))"
   ]
  },
  {
   "cell_type": "code",
   "execution_count": 59,
   "id": "515b63c0",
   "metadata": {},
   "outputs": [
    {
     "name": "stdout",
     "output_type": "stream",
     "text": [
      "correct\n"
     ]
    }
   ],
   "source": [
    "q = f\"\"\"\n",
    "{preamble}\n",
    "Q: Google Maps and other highway and street GPS services have replaced what?\n",
    "Answer Choices:\n",
    "(a) united states\n",
    "(b) mexico\n",
    "(c) countryside\n",
    "(d) atlas\n",
    "(e) oceans\n",
    "\n",
    "A:\n",
    "\"\"\"\n",
    "a = \"(d) atlas\"\n",
    "\n",
    "expect(a, generate_answer(question=q))"
   ]
  },
  {
   "cell_type": "code",
   "execution_count": 60,
   "id": "710eec17",
   "metadata": {},
   "outputs": [
    {
     "name": "stdout",
     "output_type": "stream",
     "text": [
      "INCORRECT.  Expected (c) bitterness, got (a) harder\n"
     ]
    }
   ],
   "source": [
    "q = f\"\"\"\n",
    "{preamble}\n",
    "Q: Before getting a divorce, what did the wife feel who was doing all the work?\n",
    "Answer Choices:\n",
    "(a) harder\n",
    "(b) anguish\n",
    "(c) bitterness\n",
    "(d) tears\n",
    "(e) sadness\n",
    "\n",
    "A:\n",
    "\"\"\"\n",
    "a = \"(c) bitterness\"\n",
    "\n",
    "expect(a, generate_answer(question=q))"
   ]
  },
  {
   "cell_type": "code",
   "execution_count": null,
   "id": "cc8cc89c",
   "metadata": {},
   "outputs": [],
   "source": []
  }
 ],
 "metadata": {
  "kernelspec": {
   "display_name": "Python (nlu)",
   "language": "python",
   "name": "nlu"
  },
  "language_info": {
   "codemirror_mode": {
    "name": "ipython",
    "version": 3
   },
   "file_extension": ".py",
   "mimetype": "text/x-python",
   "name": "python",
   "nbconvert_exporter": "python",
   "pygments_lexer": "ipython3",
   "version": "3.9.18"
  }
 },
 "nbformat": 4,
 "nbformat_minor": 5
}
