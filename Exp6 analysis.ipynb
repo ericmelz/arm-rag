{
 "cells": [
  {
   "cell_type": "code",
   "execution_count": 4,
   "id": "f3f2b10e",
   "metadata": {},
   "outputs": [],
   "source": [
    "from datasets import load_dataset"
   ]
  },
  {
   "cell_type": "code",
   "execution_count": 5,
   "id": "abf582ee",
   "metadata": {},
   "outputs": [],
   "source": [
    "train_data_path = 'data/results/exp6/train/correct_examples.jsonl'\n",
    "test_data_path = 'data/results/exp6/test/correct_examples.jsonl'"
   ]
  },
  {
   "cell_type": "code",
   "execution_count": 6,
   "id": "107b8b4c",
   "metadata": {},
   "outputs": [
    {
     "name": "stdout",
     "output_type": "stream",
     "text": [
      "Downloading and preparing dataset json/default to /Users/ericmelz/.cache/huggingface/datasets/json/default-daefa6a3cdb26f1b/0.0.0/0f7e3662623656454fcd2b650f34e886a7db4b9104504885bd462096cc7a9f51...\n"
     ]
    },
    {
     "data": {
      "application/vnd.jupyter.widget-view+json": {
       "model_id": "1fe0f3270f1a4816afb44f590760ed27",
       "version_major": 2,
       "version_minor": 0
      },
      "text/plain": [
       "Downloading data files:   0%|          | 0/1 [00:00<?, ?it/s]"
      ]
     },
     "metadata": {},
     "output_type": "display_data"
    },
    {
     "data": {
      "application/vnd.jupyter.widget-view+json": {
       "model_id": "cad0c89e69b4441582d20de520a16753",
       "version_major": 2,
       "version_minor": 0
      },
      "text/plain": [
       "Extracting data files:   0%|          | 0/1 [00:00<?, ?it/s]"
      ]
     },
     "metadata": {},
     "output_type": "display_data"
    },
    {
     "data": {
      "application/vnd.jupyter.widget-view+json": {
       "model_id": "",
       "version_major": 2,
       "version_minor": 0
      },
      "text/plain": [
       "Generating train split: 0 examples [00:00, ? examples/s]"
      ]
     },
     "metadata": {},
     "output_type": "display_data"
    },
    {
     "name": "stdout",
     "output_type": "stream",
     "text": [
      "Dataset json downloaded and prepared to /Users/ericmelz/.cache/huggingface/datasets/json/default-daefa6a3cdb26f1b/0.0.0/0f7e3662623656454fcd2b650f34e886a7db4b9104504885bd462096cc7a9f51. Subsequent calls will reuse this data.\n"
     ]
    }
   ],
   "source": [
    "train_dataset = load_dataset(path='json', data_files=train_data_path, split='train')"
   ]
  },
  {
   "cell_type": "code",
   "execution_count": 8,
   "id": "9c397e98",
   "metadata": {},
   "outputs": [
    {
     "name": "stderr",
     "output_type": "stream",
     "text": [
      "Found cached dataset json (/Users/ericmelz/.cache/huggingface/datasets/json/default-1cb811f9a9d6b30b/0.0.0/0f7e3662623656454fcd2b650f34e886a7db4b9104504885bd462096cc7a9f51)\n"
     ]
    }
   ],
   "source": [
    "test_dataset = load_dataset(path='json', data_files=test_data_path, split='train')"
   ]
  },
  {
   "cell_type": "code",
   "execution_count": 10,
   "id": "b6b7b9ff",
   "metadata": {},
   "outputs": [
    {
     "name": "stdout",
     "output_type": "stream",
     "text": [
      "Given a math problem, generate an answer with a rationale.\n",
      "\n",
      "Question / answer pairs have the form\n",
      "\n",
      "Question: ${question}\n",
      "\n",
      "${answer}\n",
      "    \n",
      "Examples:\n",
      "    \n",
      "Question: Natalia sold clips to 48 of her friends in April, and then she sold half as many clips in May. How many clips did Natalia sell altogether in April and May?\n",
      "\n",
      "In May, Natalia sold half as many clips as in April, which is 48/2 = <<48/2=24>>24 clips.\n",
      "The total number of clips sold in May and April is 24 clips in May + 48 clips in April = <<24+48=72>>72 clips. Answer: \\boxed{72}.\n",
      "\n",
      "\n",
      "Question: Natalia sold clips to 48 of her friends in April, and then she sold half as many clips in May. How many clips did Natalia sell altogether in April and May?\n",
      "\n",
      "In May Natalia sold half as many clips as she did in April, so in May she sold 48 / 2 = <<48/2=24>>24 clips.\n",
      "Altogether in April and May Natalia sold 48 + 24 = <<48+24=72>>72 clips. Answer: \\boxed{72}.\n",
      "\n",
      "\n",
      "Question: Natalia sold clips to 48 of her friends in April, and then she sold half as many clips in May. How many clips did Natalia sell altogether in April and May?\n",
      "\n",
      "In May Natalia sold 48 clips / 2 = <<48/2=24>>24 clips.\n",
      "Altogether in April and May Natalia sold 48 clips + 24 clips = <<48+24=72>>72 clips. Answer: \\boxed{72}.\n",
      "\n",
      "\n",
      "Question: Natalia sold clips to 48 of her friends in April, and then she sold half as many clips in May. How many clips did Natalia sell altogether in April and May?\n",
      "\n",
      "In May, Natalia sold half as many clips as in April, which means 48/2 = <<48/2=24>>24 clips.\n",
      "Altogether, Natalia sold 48 + 24 = <<48+24=72>>72 clips. Answer: \\boxed{72}.\n",
      "\n",
      "\n",
      "Question: Natalia sold clips to 48 of her friends in April, and then she sold half as many clips in May. How many clips did Natalia sell altogether in April and May?\n",
      "\n",
      "In May, Natalia sold 48 clips / 2 = <<48/2=24>>24 clips.\n",
      "Altogether Natalia sold 48 clips in April + 24 clips in May = <<48+24=72>>72 clips. Answer: \\boxed{72}.\n",
      "\n",
      "\n",
      "Question: Natalia sold clips to 48 of her friends in April, and then she sold half as many clips in May. How many clips did Natalia sell altogether in April and May?\n",
      "\n"
     ]
    }
   ],
   "source": [
    "print(train_dataset[0]['title'])"
   ]
  },
  {
   "cell_type": "markdown",
   "id": "fbe1c56c",
   "metadata": {},
   "source": [
    "## in the train set, how many retrieved questions perfectly match the query question?"
   ]
  },
  {
   "cell_type": "code",
   "execution_count": 12,
   "id": "953db855",
   "metadata": {},
   "outputs": [],
   "source": [
    "import re"
   ]
  },
  {
   "cell_type": "code",
   "execution_count": 62,
   "id": "272a2622",
   "metadata": {},
   "outputs": [],
   "source": [
    "def perfect_match_pct():\n",
    "    \"\"\"\n",
    "    Examine each question in the training prompts\n",
    "    Count the number of examples that perfectly match the target question\n",
    "    \n",
    "    Return total_examples, total_matching_examples, total_matching_examples / total_examples\n",
    "    \"\"\"\n",
    "    pattern = r'Question:.*\\n'\n",
    "    total_examples = 0\n",
    "    total_matching_examples = 0\n",
    "    \n",
    "    for i in range(len(train_dataset)):    \n",
    "        prompt = train_dataset[i]['title']\n",
    "        questions = re.findall(pattern, prompt)\n",
    "        if len(questions) != 7:\n",
    "            print(f'BAD PROMPT ({i}), {len(questions)=}:')\n",
    "            print(prompt)\n",
    "            return\n",
    "        total_examples += 5\n",
    "        total_matching_examples += len(list(filter(lambda x: questions[-1] == x, questions[1:-1])))\n",
    "\n",
    "    return total_examples, total_matching_examples, total_matching_examples / total_examples\n",
    "    "
   ]
  },
  {
   "cell_type": "code",
   "execution_count": 64,
   "id": "6d882d2b",
   "metadata": {},
   "outputs": [
    {
     "data": {
      "text/plain": [
       "(22240, 17348, 0.7800359712230216)"
      ]
     },
     "execution_count": 64,
     "metadata": {},
     "output_type": "execute_result"
    }
   ],
   "source": [
    "perfect_match_pct()"
   ]
  },
  {
   "cell_type": "markdown",
   "id": "1a70e426",
   "metadata": {},
   "source": [
    "## what kind of examples are being retrieved in the test set?  are names or nouns being used over verbs?"
   ]
  },
  {
   "cell_type": "code",
   "execution_count": 65,
   "id": "d8230765",
   "metadata": {},
   "outputs": [
    {
     "name": "stdout",
     "output_type": "stream",
     "text": [
      "Given a math problem, generate an answer with a rationale.\n",
      "\n",
      "Question / answer pairs have the form\n",
      "\n",
      "Question: ${question}\n",
      "\n",
      "${answer}\n",
      "    \n",
      "Examples:\n",
      "    \n",
      "Question: In a grocery store, Julia bought 2 pieces of Snickers and 3 packs of M&M's. If each piece of Snickers costs $1.5 and a pack of M&M's has the same cost as 2 Snickers, how much is Julia's change if she gave the cashier 2 $10 bills?\n",
      "\n",
      "Two pieces of snickers amount to $1.5 x 2 = $<<1.5*2=3>>3.\n",
      "Julia bought 3 packs of M&M's which amount to $3 x 3 = $<<3*3=9>>9.\n",
      "And the total amount she needs to pay is $3 + $9 = $<<3+9=12>>12.\n",
      "Julia gave the cashier 2 $10 bills, so her 2 x $10 = $<<2*10=20>>20.\n",
      "Therefore her change is $20 - $12 = $<<20-12=8>>8. Answer: \\boxed{8}.\n",
      "\n",
      "\n",
      "Question: Frank goes to the store to buy some food. He buys 5 chocolate bars and 2 bags of chips. He hands the cashier $20 and gets $4 back as change. If the chocolate bars each cost $2, how much did each bag of chips cost?\n",
      "\n",
      "The chocolate bars cost Frank 5 * $2 = $<<5*2=10>>10.\n",
      "The food items altogether cost Frank $10 + 2*x = $<<10+2*x=20>>20 - $4 = $16.\n",
      "Thus, 2*x = $16 - $10 = $6.\n",
      "So each bag of chips costs $6 / 2 = $<<6/2=3>>3. Answer: \\boxed{3}.\n",
      "\n",
      "\n",
      "Question: In a grocery store, Julia bought 2 pieces of Snickers and 3 packs of M&M's. If each piece of Snickers costs $1.5 and a pack of M&M's has the same cost as 2 Snickers, how much is Julia's change if she gave the cashier 2 $10 bills?\n",
      "\n",
      "The costs of the Snickers is 2 x $1.5 = $<<2*1.5=3>>3.\n",
      "And each pack of M&M's costs 2 x $1.5 = $<<2*1.5=3>>3.\n",
      "So, the costs of the M&M's is 3 x $3 = $<<3*3=9>>9.\n",
      "The total cost of all the Snickers and M&M's is $3 + $9 = $<<3+9=12>>12.\n",
      "Julia gave the cashier a total of $10 x 2 = $<<10*2=20>>20.\n",
      "So her change is $20 - $12 = $<<20-12=8>>8. Answer: \\boxed{8}.\n",
      "\n",
      "\n",
      "Question: Steve bought $25 worth of groceries. He bought a gallon of milk for $3, two boxes of cereal for $3.5 each, 4 bananas for $.25 each, four apples that cost $.5 each and a number of boxes of cookies. The cookies cost twice as much per box as the gallon of milk. How many boxes of cookies did he get?\n",
      "\n",
      "The two boxes of cereal cost $3.5x2 = $<<3.5*2=7>>7.\n",
      "The bananas cost $0.25x4 = $<<0.25*4=1>>1.\n",
      "And four apples cost $0.5x4 = $<<0.5*4=2>>2.\n",
      "So far, Steve spent $7+$1+$2+$3 = $<<7+1+2+3=13>>13.\n",
      "The cookies cost cost $3x2 = $<<3*2=6>>6.\n",
      "Steve has $25-$13=$<<25-13=12>>12 left to spend on cookies.\n",
      "The number of boxes of cookies he could buy is $12/$6 = <<12/6=2>>2. Answer: \\boxed{2}.\n",
      "\n",
      "\n",
      "Question: Frank goes to the store to buy some food. He buys 5 chocolate bars and 2 bags of chips. He hands the cashier $20 and gets $4 back as change. If the chocolate bars each cost $2, how much did each bag of chips cost?\n",
      "\n",
      "Frank spent 20-4=<<20-4=16>>16 dollars on food.\n",
      "The chocolate bars cost 5x2=$<<5*2=10>>10.\n",
      "Frank spent 16-10=<<16-10=6>>6 dollars on bags of chips.\n",
      "Each bag of chips cost 6/2=$<<6/2=3>>3. Answer: \\boxed{3}.\n",
      "\n",
      "\n",
      "Question: Ray buys a pack of hamburger meat for $5.00, a box of crackers for $3.50, 4 bags of frozen vegetables at $2.00 per bag and a pack of cheese for $3.50 at the grocery store.  Because he is a store rewards member, he gets 10% off of his purchase.  What does his total grocery bill come to?\n",
      "\n"
     ]
    }
   ],
   "source": [
    "print(test_dataset[0]['title'])"
   ]
  },
  {
   "cell_type": "markdown",
   "id": "2a7d6c9b",
   "metadata": {},
   "source": [
    "### The query question obviously retrieved other questions about food! ^^^"
   ]
  },
  {
   "cell_type": "code",
   "execution_count": null,
   "id": "1da05e9d",
   "metadata": {},
   "outputs": [],
   "source": []
  }
 ],
 "metadata": {
  "kernelspec": {
   "display_name": "Python (nlu)",
   "language": "python",
   "name": "nlu"
  },
  "language_info": {
   "codemirror_mode": {
    "name": "ipython",
    "version": 3
   },
   "file_extension": ".py",
   "mimetype": "text/x-python",
   "name": "python",
   "nbconvert_exporter": "python",
   "pygments_lexer": "ipython3",
   "version": "3.9.18"
  }
 },
 "nbformat": 4,
 "nbformat_minor": 5
}
