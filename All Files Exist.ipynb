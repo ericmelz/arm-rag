{
 "cells": [
  {
   "cell_type": "code",
   "execution_count": 1,
   "id": "27f8216e",
   "metadata": {},
   "outputs": [],
   "source": [
    "import os"
   ]
  },
  {
   "cell_type": "code",
   "execution_count": 27,
   "id": "dfff7b53",
   "metadata": {},
   "outputs": [],
   "source": [
    "def all_files_exist(basedir='data/results/exp6/test/jsonl', \n",
    "                    template='exp6_{}_{}.jsonl',\n",
    "                    start=5000, end=7500, increment=100):\n",
    "    for low in range(start, end, increment):\n",
    "        filename = template.format(low, low + increment)\n",
    "        path = f'{basedir}/{filename}'\n",
    "        if not os.path.isfile(path):\n",
    "            print(f'{path} does not exist!')"
   ]
  },
  {
   "cell_type": "code",
   "execution_count": 28,
   "id": "0c013f92",
   "metadata": {},
   "outputs": [],
   "source": [
    "all_files_exist()"
   ]
  },
  {
   "cell_type": "code",
   "execution_count": null,
   "id": "a418171b",
   "metadata": {},
   "outputs": [],
   "source": []
  }
 ],
 "metadata": {
  "kernelspec": {
   "display_name": "Python (nlu)",
   "language": "python",
   "name": "nlu"
  },
  "language_info": {
   "codemirror_mode": {
    "name": "ipython",
    "version": 3
   },
   "file_extension": ".py",
   "mimetype": "text/x-python",
   "name": "python",
   "nbconvert_exporter": "python",
   "pygments_lexer": "ipython3",
   "version": "3.9.18"
  }
 },
 "nbformat": 4,
 "nbformat_minor": 5
}
