{
 "cells": [
  {
   "cell_type": "code",
   "execution_count": 36,
   "id": "e020ab66",
   "metadata": {},
   "outputs": [
    {
     "data": {
      "text/html": [
       "<div>\n",
       "<style scoped>\n",
       "    .dataframe tbody tr th:only-of-type {\n",
       "        vertical-align: middle;\n",
       "    }\n",
       "\n",
       "    .dataframe tbody tr th {\n",
       "        vertical-align: top;\n",
       "    }\n",
       "\n",
       "    .dataframe thead th {\n",
       "        text-align: right;\n",
       "    }\n",
       "</style>\n",
       "<table border=\"1\" class=\"dataframe\">\n",
       "  <thead>\n",
       "    <tr style=\"text-align: right;\">\n",
       "      <th></th>\n",
       "      <th>start</th>\n",
       "      <th>end</th>\n",
       "      <th>examples</th>\n",
       "      <th>accuracy</th>\n",
       "      <th>examples_cumsum</th>\n",
       "      <th>correct_examples</th>\n",
       "      <th>correct_examples_cumsum</th>\n",
       "    </tr>\n",
       "  </thead>\n",
       "  <tbody>\n",
       "    <tr>\n",
       "      <th>40</th>\n",
       "      <td>4500</td>\n",
       "      <td>4600</td>\n",
       "      <td>100</td>\n",
       "      <td>0.918913</td>\n",
       "      <td>4600</td>\n",
       "      <td>90.0</td>\n",
       "      <td>4227.0</td>\n",
       "    </tr>\n",
       "    <tr>\n",
       "      <th>41</th>\n",
       "      <td>4600</td>\n",
       "      <td>4700</td>\n",
       "      <td>100</td>\n",
       "      <td>0.918511</td>\n",
       "      <td>4700</td>\n",
       "      <td>90.0</td>\n",
       "      <td>4317.0</td>\n",
       "    </tr>\n",
       "    <tr>\n",
       "      <th>42</th>\n",
       "      <td>4700</td>\n",
       "      <td>4800</td>\n",
       "      <td>100</td>\n",
       "      <td>0.918333</td>\n",
       "      <td>4800</td>\n",
       "      <td>91.0</td>\n",
       "      <td>4408.0</td>\n",
       "    </tr>\n",
       "    <tr>\n",
       "      <th>43</th>\n",
       "      <td>4800</td>\n",
       "      <td>4900</td>\n",
       "      <td>100</td>\n",
       "      <td>0.918980</td>\n",
       "      <td>4900</td>\n",
       "      <td>95.0</td>\n",
       "      <td>4503.0</td>\n",
       "    </tr>\n",
       "    <tr>\n",
       "      <th>44</th>\n",
       "      <td>4900</td>\n",
       "      <td>5000</td>\n",
       "      <td>100</td>\n",
       "      <td>0.919000</td>\n",
       "      <td>5000</td>\n",
       "      <td>92.0</td>\n",
       "      <td>4595.0</td>\n",
       "    </tr>\n",
       "  </tbody>\n",
       "</table>\n",
       "</div>"
      ],
      "text/plain": [
       "    start   end  examples  accuracy  examples_cumsum  correct_examples  \\\n",
       "40   4500  4600       100  0.918913             4600              90.0   \n",
       "41   4600  4700       100  0.918511             4700              90.0   \n",
       "42   4700  4800       100  0.918333             4800              91.0   \n",
       "43   4800  4900       100  0.918980             4900              95.0   \n",
       "44   4900  5000       100  0.919000             5000              92.0   \n",
       "\n",
       "    correct_examples_cumsum  \n",
       "40                   4227.0  \n",
       "41                   4317.0  \n",
       "42                   4408.0  \n",
       "43                   4503.0  \n",
       "44                   4595.0  "
      ]
     },
     "execution_count": 36,
     "metadata": {},
     "output_type": "execute_result"
    }
   ],
   "source": [
    "import pandas as pd\n",
    "\n",
    "!echo 'start,end,examples,accuracy' > data/results/exp5/accuracies.csv\n",
    "\n",
    "!cat data/results/exp5/exp5*.csv >> data/results/exp5/accuracies.csv\n",
    "\n",
    "df = pd.read_csv('data/results/exp5/accuracies.csv')\n",
    "df = df.sort_values(by='start')\n",
    "df['examples_cumsum'] = df['examples'].cumsum()\n",
    "df['correct_examples'] = df['examples'] * df['accuracy']\n",
    "df['correct_examples_cumsum'] = df['correct_examples'].cumsum()\n",
    "df['accuracy'] = df['correct_examples_cumsum'] / df['examples_cumsum']\n",
    "df.tail()"
   ]
  },
  {
   "cell_type": "code",
   "execution_count": 37,
   "id": "13f823ea",
   "metadata": {},
   "outputs": [
    {
     "data": {
      "text/plain": [
       "0.919"
      ]
     },
     "execution_count": 37,
     "metadata": {},
     "output_type": "execute_result"
    }
   ],
   "source": [
    "accuracy = df.iloc[-1]['accuracy']\n",
    "accuracy"
   ]
  },
  {
   "cell_type": "code",
   "execution_count": null,
   "id": "c4207a6f",
   "metadata": {},
   "outputs": [],
   "source": []
  }
 ],
 "metadata": {
  "kernelspec": {
   "display_name": "Python (nlu)",
   "language": "python",
   "name": "nlu"
  },
  "language_info": {
   "codemirror_mode": {
    "name": "ipython",
    "version": 3
   },
   "file_extension": ".py",
   "mimetype": "text/x-python",
   "name": "python",
   "nbconvert_exporter": "python",
   "pygments_lexer": "ipython3",
   "version": "3.9.18"
  }
 },
 "nbformat": 4,
 "nbformat_minor": 5
}
