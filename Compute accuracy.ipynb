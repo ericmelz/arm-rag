{
 "cells": [
  {
   "cell_type": "code",
   "execution_count": 1,
   "id": "aad6052b",
   "metadata": {},
   "outputs": [
    {
     "name": "stdout",
     "output_type": "stream",
     "text": [
      "0,100,100,0.961000,1100,100,0.93100,200,100,0.91100,1200,100,0.911200,1300,100,0.921300,1400,100,0.912000,2100,100,0.954000,4100,100,0.94"
     ]
    }
   ],
   "source": [
    "!cat data/results/exp5/*.csv"
   ]
  },
  {
   "cell_type": "code",
   "execution_count": null,
   "id": "4cecc47a",
   "metadata": {},
   "outputs": [],
   "source": []
  }
 ],
 "metadata": {
  "kernelspec": {
   "display_name": "Python (nlu)",
   "language": "python",
   "name": "nlu"
  },
  "language_info": {
   "codemirror_mode": {
    "name": "ipython",
    "version": 3
   },
   "file_extension": ".py",
   "mimetype": "text/x-python",
   "name": "python",
   "nbconvert_exporter": "python",
   "pygments_lexer": "ipython3",
   "version": "3.9.18"
  }
 },
 "nbformat": 4,
 "nbformat_minor": 5
}
